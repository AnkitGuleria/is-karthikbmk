{
 "cells": [
  {
   "cell_type": "code",
   "execution_count": 1,
   "metadata": {
    "collapsed": true
   },
   "outputs": [],
   "source": [
    "import numpy as np\n",
    "import tensorflow as tf\n",
    "import pickle"
   ]
  },
  {
   "cell_type": "code",
   "execution_count": 2,
   "metadata": {
    "collapsed": false
   },
   "outputs": [],
   "source": [
    "def deserialize(file_name):\n",
    "    with open(file_name, 'rb') as f:\n",
    "        return pickle.load(f)"
   ]
  },
  {
   "cell_type": "code",
   "execution_count": 3,
   "metadata": {
    "collapsed": false
   },
   "outputs": [
    {
     "name": "stdout",
     "output_type": "stream",
     "text": [
      "[[  1.00000000e+00   1.00000000e+00   3.20000000e+01 ...,   0.00000000e+00\n",
      "    1.18164062e-01   0.00000000e+00]\n",
      " [  1.00000000e+00   9.78260870e-01   2.50000000e+01 ...,   0.00000000e+00\n",
      "    1.93600000e-01   0.00000000e+00]\n",
      " [  1.00000000e+00   9.56521739e-01   2.80000000e+01 ...,   1.27551020e-02\n",
      "    1.27551020e-01   1.30434783e-01]\n",
      " ..., \n",
      " [  1.00000000e+00   3.44827586e-02   2.40000000e+01 ...,   7.63888889e-02\n",
      "    2.10069444e-01   9.78260870e-02]\n",
      " [  1.00000000e+00   1.72413793e-02   3.40000000e+01 ...,   2.76816609e-02\n",
      "    5.53633218e-02   3.26086957e-02]\n",
      " [  1.00000000e+00   0.00000000e+00   1.00000000e+01 ...,   1.20000000e-01\n",
      "    9.00000000e-02   0.00000000e+00]]\n"
     ]
    }
   ],
   "source": [
    "summ_data = deserialize('data_matrix')\n",
    "print summ_data\n",
    "train_X = summ_data[:,0:len(summ_data[0])-1]\n",
    "train_Y = summ_data[:,len(summ_data[0])-1:]\n",
    "n_samples=summ_data.shape[0]\n",
    "h1_nodes = 10\n",
    "h2_nodes = 10\n",
    "h3_nodes = 10\n",
    "op_nodes = 1\n",
    "batch_size = 100\n",
    "learning_rate = 0.01\n",
    "display_step = 1\n",
    "x = tf.placeholder(\"float\",[\n",
    "        None,55])\n",
    "y = tf.placeholder(\"float\")"
   ]
  },
  {
   "cell_type": "code",
   "execution_count": 4,
   "metadata": {
    "collapsed": true
   },
   "outputs": [],
   "source": [
    "def neural_network_model(data):\n",
    "    \n",
    "    hidden_1_layer = {'weights':tf.Variable(tf.random_normal([55,h1_nodes])),\n",
    "                     'biases' : tf.Variable(tf.random_normal([h1_nodes]))}\n",
    "    \n",
    "    hidden_2_layer = {'weights':tf.Variable(tf.random_normal([h1_nodes,h2_nodes])),\n",
    "                      'biases' : tf.Variable(tf.random_normal([h2_nodes]))}\n",
    "    \n",
    "    hidden_3_layer = {'weights':tf.Variable(tf.random_normal([h2_nodes,h3_nodes])),\n",
    "                      'biases' : tf.Variable(tf.random_normal([h3_nodes]))}\n",
    "    \n",
    "    output_layer = {'weights':tf.Variable(tf.random_normal([h3_nodes,op_nodes])),\n",
    "                   'biases' : tf.Variable(tf.random_normal([op_nodes]))}\n",
    "    \n",
    "    #l1 activations\n",
    "    l1 = tf.add(tf.matmul(data,hidden_1_layer['weights']), \n",
    "                hidden_1_layer['biases'] )\n",
    "    l1 = tf.nn.sigmoid(l1)\n",
    "    \n",
    "    #l2 activations\n",
    "    l2 = tf.add(tf.matmul(l1,hidden_2_layer['weights']), \n",
    "                hidden_2_layer['biases'] )\n",
    "    l2 = tf.nn.sigmoid(l2)\n",
    "    \n",
    "    #l3 activations\n",
    "    l3 = tf.add(tf.matmul(l2,hidden_3_layer['weights']), \n",
    "                hidden_3_layer['biases'] )\n",
    "    l3 = tf.nn.sigmoid(l3)\n",
    "    \n",
    "    \n",
    "    #output activations\n",
    "    op = tf.add(tf.matmul(l3,output_layer['weights']), \n",
    "                output_layer['biases'] )\n",
    "    \n",
    "    return op"
   ]
  },
  {
   "cell_type": "code",
   "execution_count": 5,
   "metadata": {
    "collapsed": false
   },
   "outputs": [],
   "source": [
    "def train_neural_network(x):\n",
    "    prediction= neural_network_model(x)\n",
    "    cost =  tf.reduce_sum(tf.pow(prediction-y, 2))/(2*n_samples)\n",
    "    \n",
    "    optimizer = tf.train.GradientDescentOptimizer(learning_rate).minimize(cost)\n",
    "    \n",
    "    epochs = 10\n",
    "    with tf.Session() as sess:\n",
    "        sess.run(tf.initialize_all_variables())\n",
    "        \n",
    "        for epoch in range(epochs):\n",
    "            for (tr_x, tr_y) in zip(train_X, train_Y):                \n",
    "                sess.run(optimizer, feed_dict={x: np.reshape(tr_x,(1,55)), y: tr_y})           \n",
    "                                        \n",
    "            c = sess.run(cost, feed_dict={x: train_X, y:train_Y})\n",
    "            print \"Epoch:\", '%04d' % (epoch+1), \"cost=\", \"{:.9f}\".format(c)\n",
    "\n",
    "        print \"Optimization Finished\"        "
   ]
  },
  {
   "cell_type": "code",
   "execution_count": 6,
   "metadata": {
    "collapsed": false
   },
   "outputs": [
    {
     "name": "stdout",
     "output_type": "stream",
     "text": [
      "Epoch: 0001 cost= 0.246193215\n",
      "Epoch: 0002 cost= 0.235987484\n",
      "Epoch: 0003 cost= 0.226271495\n",
      "Epoch: 0004 cost= 0.217000961\n",
      "Epoch: 0005 cost= 0.208175942\n",
      "Epoch: 0006 cost= 0.199757025\n",
      "Epoch: 0007 cost= 0.191730037\n",
      "Epoch: 0008 cost= 0.184064761\n",
      "Epoch: 0009 cost= 0.176728964\n",
      "Epoch: 0010 cost= 0.169746965\n",
      "Optimization Finished\n"
     ]
    }
   ],
   "source": [
    "train_neural_network(x)"
   ]
  },
  {
   "cell_type": "code",
   "execution_count": null,
   "metadata": {
    "collapsed": true
   },
   "outputs": [],
   "source": []
  }
 ],
 "metadata": {
  "kernelspec": {
   "display_name": "Python 2",
   "language": "python",
   "name": "python2"
  },
  "language_info": {
   "codemirror_mode": {
    "name": "ipython",
    "version": 2
   },
   "file_extension": ".py",
   "mimetype": "text/x-python",
   "name": "python",
   "nbconvert_exporter": "python",
   "pygments_lexer": "ipython2",
   "version": "2.7.6"
  }
 },
 "nbformat": 4,
 "nbformat_minor": 0
}
