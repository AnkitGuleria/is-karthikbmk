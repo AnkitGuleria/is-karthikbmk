{
 "cells": [
  {
   "cell_type": "markdown",
   "metadata": {},
   "source": [
    "## Ridge Regression"
   ]
  },
  {
   "cell_type": "code",
   "execution_count": 1,
   "metadata": {
    "collapsed": false
   },
   "outputs": [
    {
     "name": "stderr",
     "output_type": "stream",
     "text": [
      "/home/karthik/.local/lib/python2.7/site-packages/sklearn/cross_validation.py:44: DeprecationWarning: This module was deprecated in version 0.18 in favor of the model_selection module into which all the refactored classes and functions are moved. Also note that the interface of the new CV iterators are different from that of this module. This module will be removed in 0.20.\n",
      "  \"This module will be removed in 0.20.\", DeprecationWarning)\n"
     ]
    }
   ],
   "source": [
    "from sklearn.linear_model import Ridge\n",
    "from sklearn.linear_model import Lasso\n",
    "from sklearn.cross_validation import KFold\n",
    "from sklearn.preprocessing import PolynomialFeatures\n",
    "from sklearn.preprocessing import scale\n",
    "from sklearn.metrics.pairwise import cosine_similarity\n",
    "from sumy import evaluation\n",
    "from sumy.models import dom\n",
    "from sumy.nlp import tokenizers\n",
    "from stemming.porter2 import stem\n",
    "from os import listdir\n",
    "import os.path\n",
    "from nltk.corpus import stopwords\n",
    "import nltk\n",
    "import copy\n",
    "import pickle\n",
    "import unicodedata\n",
    "import re\n",
    "import numpy as np\n",
    "import operator\n",
    "import matplotlib.pyplot as plt\n",
    "from collections import defaultdict\n",
    "import nltk.data\n",
    "sent_detector = nltk.data.load('tokenizers/punkt/english.pickle')\n",
    "%matplotlib inline"
   ]
  },
  {
   "cell_type": "markdown",
   "metadata": {},
   "source": [
    "<b> Feature Extraction:"
   ]
  },
  {
   "cell_type": "markdown",
   "metadata": {},
   "source": [
    " <img src=\".\\Others\\Features.png\" alt=\"HTML5 Icon\" width=\"800\" height=\"500\", style=\"display: ;\">"
   ]
  },
  {
   "cell_type": "code",
   "execution_count": 2,
   "metadata": {
    "collapsed": false
   },
   "outputs": [],
   "source": [
    "data_root_dir = '../data/DUC2001'\n",
    "annotation_file = 'annotations.txt'\n",
    "txt_opn_tag = '<TEXT>'\n",
    "txt_close_tag = '</TEXT>'"
   ]
  },
  {
   "cell_type": "code",
   "execution_count": 3,
   "metadata": {
    "collapsed": true
   },
   "outputs": [],
   "source": [
    "def get_cluster_and_its_files(data_root_dir,annotation_file):\n",
    "    '''Get a Cluster and the file names associated with it\n",
    "       Returns a dictionary of the form { cluster_1 : [file1,file2,file3....], cluster_2 : [file1,file2,file3....] }'''    \n",
    "    \n",
    "    f = open(data_root_dir + '/' + annotation_file,'r')\n",
    "    \n",
    "    clust_files = defaultdict(list)\n",
    "    \n",
    "    \n",
    "    for line in f.readlines():\n",
    "        cur_line = line.split(';')[0]\n",
    "        clust_name = cur_line.split('@')[1]\n",
    "        file_name = cur_line.split('@')[0]\n",
    "        \n",
    "        clust_files[clust_name].append(file_name)\n",
    "        \n",
    "    f.close()\n",
    "    \n",
    "    return clust_files\n",
    "    \n",
    "        "
   ]
  },
  {
   "cell_type": "code",
   "execution_count": 4,
   "metadata": {
    "collapsed": false
   },
   "outputs": [
    {
     "name": "stdout",
     "output_type": "stream",
     "text": [
      "['AP900322-0200', 'FBIS-41815', 'FBIS-45908', 'FT921-9310', 'FT931-3883', 'FT933-8272', 'FT941-575', 'LA042290-0104', 'LA060490-0083', 'WSJ910107-0139']\n"
     ]
    }
   ],
   "source": [
    "clust_files = get_cluster_and_its_files(data_root_dir,annotation_file)\n",
    "print clust_files['mad cow disease']\n",
    "clust_list = clust_files.keys()"
   ]
  },
  {
   "cell_type": "code",
   "execution_count": 5,
   "metadata": {
    "collapsed": true
   },
   "outputs": [],
   "source": [
    "def get_text_from_doc(document_path,txt_opn_tag,txt_close_tag):\n",
    "    \n",
    "    f = open(document_path,'r')\n",
    "    content = f.read()\n",
    "    f.close()\n",
    "    \n",
    "    start = content.index(txt_opn_tag) + len(txt_opn_tag)\n",
    "    end   = content.index(txt_close_tag)\n",
    "    \n",
    "    return content[start:end]\n",
    "        "
   ]
  },
  {
   "cell_type": "code",
   "execution_count": 6,
   "metadata": {
    "collapsed": false
   },
   "outputs": [],
   "source": [
    "def tokenize_txt(text,nltk_flag=True,ner_flag=False):\n",
    "    \n",
    "    text = text.strip()\n",
    "    \n",
    "    if ner_flag == True:        \n",
    "        tokenizedList = re.split('[^a-zA-Z]+', text.lower())\n",
    "        return tokenizedList\n",
    "    \n",
    "    if nltk_flag == False:\n",
    "        #return [x.lower() for x in re.findall(r\"\\w+\", text)]\n",
    "\n",
    "        tokenizedList = re.split('\\W+', text.lower())\n",
    "        return [unicode(x,'utf-8') for x in tokenizedList if x != '' and x != '\\n' and x != u'\\x85' and x != '\\r' and x != '_']\n",
    "    else:\n",
    "        return nltk.word_tokenize(unicode(text,'utf-8')) \n",
    "        #return [x for x in toks if x != '' and x != '\\n' and x != u'\\x85' and x != '\\r' and x != '_' and x!= ',' and x != '.']    \n",
    "    "
   ]
  },
  {
   "cell_type": "code",
   "execution_count": 7,
   "metadata": {
    "collapsed": false
   },
   "outputs": [
    {
     "data": {
      "text/plain": [
       "['what', 'is', 'this', 'is', 'this', 'cool', 'i', 'don', 't', 'know']"
      ]
     },
     "execution_count": 7,
     "metadata": {},
     "output_type": "execute_result"
    }
   ],
   "source": [
    "tokenize_txt('What is this ?? Is this _ cool ? I don\\'t know',nltk_flag=True,ner_flag=True)"
   ]
  },
  {
   "cell_type": "markdown",
   "metadata": {},
   "source": [
    "<b>Feature 1 : Term frequency over the cluster(TF)"
   ]
  },
  {
   "cell_type": "code",
   "execution_count": 8,
   "metadata": {
    "collapsed": false
   },
   "outputs": [],
   "source": [
    "def get_term_freqs(data_root_dir,annotation_file,stop_words=None) :\n",
    "    '''Get the term freqs of words in clusters. The term freqs are unique to clusters.\n",
    "    Returns a dict of form {clust1 : {word1 : 2, word2 :3...},clust2 : {word1 : 2, word2 :3..} ......}'''\n",
    "        \n",
    "    #Check about stop_words\n",
    "    \n",
    "    clust_files = get_cluster_and_its_files(data_root_dir,annotation_file)\n",
    "    \n",
    "    clust_term_freq = defaultdict(defaultdict)\n",
    "    \n",
    "    \n",
    "    for clust,files in clust_files.iteritems():\n",
    "        term_freq = defaultdict(int)\n",
    "        \n",
    "        for doc in files:\n",
    "            doc_path = data_root_dir + '/' + doc\n",
    "            txt = get_text_from_doc(doc_path,txt_opn_tag,txt_close_tag)\n",
    "            doc_tokens = tokenize_txt(txt)\n",
    "            \n",
    "            for token in doc_tokens:\n",
    "                term_freq[token] += 1\n",
    "        \n",
    "        clust_term_freq[clust] = term_freq\n",
    "    \n",
    "    return clust_term_freq\n",
    "            \n",
    "            \n",
    "            \n",
    "    "
   ]
  },
  {
   "cell_type": "code",
   "execution_count": 9,
   "metadata": {
    "collapsed": false
   },
   "outputs": [
    {
     "name": "stdout",
     "output_type": "stream",
     "text": [
      "defaultdict(<type 'int'>, {u'all': 1, u'Union': 1, u'Kretzschmar': 1, u'Switzerland': 1, u'per': 1, u'human': 1, u'still': 1, u'decisions': 1, u'its': 1, u'European': 1, u'Jakob': 1, u'one': 1, u'March': 1, u'(': 2, u'had': 2, u',': 10, u'should': 1, u'to': 6, u'safeguards': 1, u'do': 1, u'popularly': 1, u'affected': 1, u'diseases': 1, u'than': 1, u'government': 1, u'very': 1, u'100,000': 1, u'scientists': 1, u'possible': 1, u'Gottingen': 1, u'were': 3, u'know': 1, u'not': 3, u'affect': 2, u'existing': 1, u'countries': 1, u'medicines': 1, u'50': 1, u'whether': 1, u'transmitted': 2, u'minimal': 1, u'ban': 2, u'Contaminated': 1, u'because': 1, u'humans': 4, u'bovine': 1, u'connections': 1, u'likely': 1, u'catching': 1, u'are': 1, u'encephalopathy': 1, u'further': 1, u'institutes': 1, u'agriculture': 1, u'concern': 1, u'universities': 1, u'project': 1, u'said': 3, u'imported': 3, u'for': 2, u'1992': 1, u'recorded': 1, u'expressed': 1, u'research': 4, u'I': 1, u'health': 1, u'between': 1, u'new': 1, u'contaminated': 2, u'University': 1, u'announced': 1, u'available': 1, u'be': 7, u'we': 1, u'Professor': 1, u'pushing': 1, u'EU': 2, u'by': 2, u'official': 1, u'on': 2, u'about': 1, u'last': 1, u'would': 1, u'origins': 1, u'launch': 1, u'of': 11, u'30': 1, u'discussed': 1, u'figures': 1, u'argue': 1, u'or': 2, u'comes': 1, u\"'The\": 1, u'Gerstmann': 1, u'danger': 1, u'year': 1, u'ministers': 2, u'beings': 1, u'initiative': 1, u'been': 1, u'rarely': 1, u'from': 4, u'beef': 6, u'debilitates': 1, u'union': 1, u'there': 2, u'two': 2, u'cent': 1, u'.': 11, u'2': 1, u'way': 1, u'Hans': 1, u'BSE': 5, u'meeting': 1, u'more': 1, u'-may': 1, u'spongiform': 1, u'that': 8, u'brains': 1, u'sufficient': 1, u'but': 1, u'personally': 1, u'known': 2, u'cases': 2, u'with': 1, u'eat': 1, u'2,092': 1, u'Seven': 1, u'made': 2, u'animals': 1, u'cow': 2, u'transmissible': 1, u'German': 4, u'ministry': 2, u'as': 3, u'will': 2, u'Britain': 2, u'can': 3, u'country': 2, u'Straussler': 1, u'at': 1, u'and': 6, u'non-existent': 2, u'imports': 2, u'is': 4, u'cattle': 3, u'it': 2, u'evidence': 1, u'examine': 2, u'ingredients': 1, u'have': 1, u'in': 3, u'Several': 1, u'technology': 1, u'any': 1, u'result': 1, u\"'mad\": 1, u'syndrome': 1, u'no': 1, u')': 2, u'-': 3, u'other': 2, u'Germany': 2, u'take': 1, u'which': 3, u'A': 1, u\"'s\": 2, u'arguing': 1, u'who': 2, u'yesterday': 1, u'British': 4, u'sponsored': 1, u'The': 3, u'13': 1, u'died': 1, u'conclusive': 1, u'a': 7, u\"'\": 3, u\"'However\": 1, u'Creutzfeldt': 1, u'disease': 5, u'think': 1, u'veal': 1, u'In': 1, u'tonnes': 2, u'the': 11})\n"
     ]
    }
   ],
   "source": [
    "clust_word_tfs = get_term_freqs(data_root_dir,annotation_file)\n",
    "print clust_word_tfs['cattle disease']"
   ]
  },
  {
   "cell_type": "markdown",
   "metadata": {},
   "source": [
    "<b> Feature 2 : Total document number in the datasets, divided by the frequency of documents which contains this word (IDF)"
   ]
  },
  {
   "cell_type": "code",
   "execution_count": 10,
   "metadata": {
    "collapsed": false
   },
   "outputs": [],
   "source": [
    "def get_doc_freqs(data_root_dir,annotation_file):\n",
    "    \n",
    "    '''Return a dictionary of the form {word1 : df1 , word2 : df2 ...}'''\n",
    "    '''Example : {furazabol : 154.5 , the : 1.00032}'''\n",
    "    \n",
    "    data_root_dir += '/'\n",
    "    \n",
    "    docs =  [file_name for _,__,file_name in os.walk(data_root_dir)][0]\n",
    "    \n",
    "    if annotation_file in docs:\n",
    "        docs.remove(annotation_file)        \n",
    "    \n",
    "    inverted_index  = defaultdict(set)\n",
    "    \n",
    "    \n",
    "    for doc in docs:\n",
    "        doc_path = data_root_dir + doc        \n",
    "        txt = get_text_from_doc(doc_path,txt_opn_tag,txt_close_tag)\n",
    "        doc_tokens = tokenize_txt(txt)\n",
    "        \n",
    "        for token in doc_tokens:\n",
    "            inverted_index[token].add(doc)\n",
    "    \n",
    "    \n",
    "    \n",
    "    no_of_docs = len(docs)\n",
    "    idf_dict = defaultdict(float)\n",
    "    \n",
    "    for term,doc_lst in inverted_index.iteritems():\n",
    "        idf_dict[term] = float(no_of_docs) / len(doc_lst)\n",
    "    \n",
    "    return idf_dict\n",
    "        \n",
    "        \n",
    "    "
   ]
  },
  {
   "cell_type": "code",
   "execution_count": 11,
   "metadata": {
    "collapsed": false
   },
   "outputs": [
    {
     "name": "stdout",
     "output_type": "stream",
     "text": [
      "154.5\n",
      "1.00324675325\n"
     ]
    }
   ],
   "source": [
    "doc_freqs = get_doc_freqs(data_root_dir,annotation_file)\n",
    "print doc_freqs['furazabol']\n",
    "print doc_freqs['the']"
   ]
  },
  {
   "cell_type": "markdown",
   "metadata": {},
   "source": [
    "<b>Feature 3 : The frequency of documents which contains this word in the current cluster (CF)"
   ]
  },
  {
   "cell_type": "code",
   "execution_count": 12,
   "metadata": {
    "collapsed": true
   },
   "outputs": [],
   "source": [
    "def get_clusterwise_dfs(data_root_dir,annotation_file):\n",
    "    \n",
    "    '''Return a dictionary of the form : {clust1 : (word1 : df1,word2 :df2 .....) , clust1 : (word3 : df3,word2 :df3 .....)}'''\n",
    "    '''Note that the document frequencies of term are calculated clusterwise, and not on the whole dataset'''\n",
    "    \n",
    "    clust_doc_freqs = defaultdict(defaultdict)\n",
    "    \n",
    "    clust_files = get_cluster_and_its_files(data_root_dir,annotation_file)\n",
    "    \n",
    "    for clust,files in clust_files.iteritems():\n",
    "        inverted_index  = defaultdict(set)\n",
    "        \n",
    "        for doc in files:\n",
    "            doc_path = data_root_dir + '/' + doc\n",
    "            txt = get_text_from_doc(doc_path,txt_opn_tag,txt_close_tag)\n",
    "            doc_tokens = tokenize_txt(txt)\n",
    "            \n",
    "            for token in doc_tokens:\n",
    "                inverted_index[token].add(doc)\n",
    "        \n",
    "        \n",
    "        clust_df = defaultdict(int)\n",
    "        \n",
    "        for term,doc_lst in inverted_index.iteritems():\n",
    "            clust_df[term] =  len(doc_lst)\n",
    "        \n",
    "        clust_doc_freqs[clust] = clust_df\n",
    "    \n",
    "    return clust_doc_freqs"
   ]
  },
  {
   "cell_type": "code",
   "execution_count": 13,
   "metadata": {
    "collapsed": false
   },
   "outputs": [
    {
     "name": "stdout",
     "output_type": "stream",
     "text": [
      "[(u',', 10), (u'encephalopathy', 10), (u'cow', 10), (u'and', 10), (u'.', 10), (u'in', 10), (u'the', 10), (u'has', 10), (u'for', 10), (u\"'s\", 10), (u'that', 10), (u'were', 10), (u'spongiform', 10), (u'of', 10), (u'with', 10), (u'as', 10), (u'to', 10), (u'a', 10), (u'be', 10), (u'from', 10)]\n"
     ]
    }
   ],
   "source": [
    "clust_dfs = get_clusterwise_dfs(data_root_dir,annotation_file)\n",
    "print sorted(clust_dfs['mad cow disease'].items(),key=operator.itemgetter(1),reverse=True)[0:20]"
   ]
  },
  {
   "cell_type": "markdown",
   "metadata": {},
   "source": [
    "<b>Feature 4 : A 4-dimension binary vector indicates whether the word is a noun, a verb, an adjective or an adverb. If the word has\n",
    "another part-of-speech, the vector is all-zero  (POS)"
   ]
  },
  {
   "cell_type": "code",
   "execution_count": 14,
   "metadata": {
    "collapsed": true
   },
   "outputs": [],
   "source": [
    "def get_short_tag(long_tag,valid_pos=['NN','VB','JJ','RB']):      \n",
    "    '''Truncate long_tag to get its first 2 chars. If a valid POS, return first 2 chars. else return OT (Other)'''\n",
    "    '''Valid POS are NN,VB,JJ,RB'''\n",
    "    \n",
    "    valid_pos_lst = valid_pos\n",
    "       \n",
    "    long_tag = str.upper(long_tag[0:2])\n",
    "    \n",
    "    if long_tag in valid_pos_lst:\n",
    "        return long_tag\n",
    "    \n",
    "    else:\n",
    "        return 'OT'                "
   ]
  },
  {
   "cell_type": "code",
   "execution_count": 15,
   "metadata": {
    "collapsed": false
   },
   "outputs": [],
   "source": [
    "def get_sentence_tags(sentence):\n",
    "    '''POS tag the words in the sentence and return a dict of the form : {word1 : [tag1,tag2..], word2 : [tag3,tag4..]..}'''\n",
    "    word_tag_dict = defaultdict(set)\n",
    "    #sent_tags = pos_tagger.tag(tokenize_txt(sentence))\n",
    "    sent_tags = nltk.pos_tag(tokenize_txt(sentence))\n",
    "        \n",
    "    for word_tag in sent_tags:\n",
    "        word = word_tag[0]\n",
    "        tag = word_tag[1]\n",
    "        \n",
    "        word_tag_dict[word].add(get_short_tag(tag))\n",
    "    \n",
    "    return word_tag_dict"
   ]
  },
  {
   "cell_type": "code",
   "execution_count": 16,
   "metadata": {
    "collapsed": false
   },
   "outputs": [
    {
     "name": "stdout",
     "output_type": "stream",
     "text": [
      "defaultdict(<type 'set'>, {u'sent': set(['VB']), u'one': set(['OT'])})\n",
      "defaultdict(<type 'set'>, {u'two': set(['OT']), u'sent': set(['NN'])})\n"
     ]
    }
   ],
   "source": [
    "print get_sentence_tags(\"sent one\")\n",
    "print get_sentence_tags(\"sent two\")"
   ]
  },
  {
   "cell_type": "code",
   "execution_count": 17,
   "metadata": {
    "collapsed": false
   },
   "outputs": [],
   "source": [
    "def get_doc_tags(document):\n",
    "    \n",
    "    '''Perform POS tagging on all the sentences in the document and return a dict of the form :'''\n",
    "    ''' (sent_id : { word1 : tag1 ...}...}'''\n",
    "    \n",
    "    sent_and_tags = defaultdict(int)\n",
    "    \n",
    "    #sentences = document.split('.')\n",
    "    sentences = sent_detector.tokenize(document,realign_boundaries=True)\n",
    "    \n",
    "    for i,sentence in enumerate(sentences):\n",
    "        sent_and_tags[i] = get_sentence_tags(sentence.strip('.').strip('\\n'.strip('')))\n",
    "    \n",
    "    return sent_and_tags"
   ]
  },
  {
   "cell_type": "code",
   "execution_count": 18,
   "metadata": {
    "collapsed": false
   },
   "outputs": [
    {
     "data": {
      "text/plain": [
       "defaultdict(int,\n",
       "            {0: defaultdict(set,\n",
       "                         {u'?': {'OT'},\n",
       "                          u'Alan': {'NN'},\n",
       "                          u'Turing': {'NN'},\n",
       "                          u'Who': {'OT'},\n",
       "                          u'is': {'VB'}}),\n",
       "             1: defaultdict(set,\n",
       "                         {u'Alan': {'NN'},\n",
       "                          u'Kingdom': {'NN'},\n",
       "                          u'United': {'NN'},\n",
       "                          u'born': {'VB'},\n",
       "                          u'in': {'OT'},\n",
       "                          u'the': {'OT'},\n",
       "                          u'was': {'VB'}})})"
      ]
     },
     "execution_count": 18,
     "metadata": {},
     "output_type": "execute_result"
    }
   ],
   "source": [
    "get_doc_tags(\"Who is Alan Turing ??. Alan was born in the United Kingdom\")"
   ]
  },
  {
   "cell_type": "code",
   "execution_count": 19,
   "metadata": {
    "collapsed": true
   },
   "outputs": [],
   "source": [
    "def get_cluster_tags(data_root_dir,annotation_file):\n",
    "    '''Perfom Part of Speech Tagging across all the sentences in all the documents in all the clusters'''\n",
    "    \n",
    "    clust_files = get_cluster_and_its_files(data_root_dir,annotation_file)\n",
    "    \n",
    "    clust_tags = defaultdict(defaultdict)\n",
    "    \n",
    "    i = 1\n",
    "    for clust,files in clust_files.iteritems():        \n",
    "        \n",
    "        for doc in files:\n",
    "            \n",
    "            if i %10 == 0:\n",
    "                print 'Finished tagging doc :', i\n",
    "            i += 1\n",
    "            doc_path = data_root_dir + '/' + doc\n",
    "            txt = get_text_from_doc(doc_path,txt_opn_tag,txt_close_tag)\n",
    "            \n",
    "            clust_tags[clust][doc] = get_doc_tags(txt)\n",
    "            \n",
    "    return clust_tags"
   ]
  },
  {
   "cell_type": "code",
   "execution_count": 22,
   "metadata": {
    "collapsed": false
   },
   "outputs": [],
   "source": [
    "clust_tags = get_cluster_tags(data_root_dir,annotation_file)"
   ]
  },
  {
   "cell_type": "code",
   "execution_count": 20,
   "metadata": {
    "collapsed": true
   },
   "outputs": [],
   "source": [
    "def serialize(file_name,data):\n",
    "    \n",
    "    with open(file_name, 'wb') as f:    \n",
    "        pickle.dump(data, f, pickle.HIGHEST_PROTOCOL)\n",
    "        "
   ]
  },
  {
   "cell_type": "code",
   "execution_count": 21,
   "metadata": {
    "collapsed": false
   },
   "outputs": [],
   "source": [
    "def deserialize(file_name):\n",
    "\n",
    "    with open(file_name, 'rb') as f:\n",
    "        return pickle.load(f)\n",
    "    "
   ]
  },
  {
   "cell_type": "code",
   "execution_count": 22,
   "metadata": {
    "collapsed": false
   },
   "outputs": [
    {
     "name": "stdout",
     "output_type": "stream",
     "text": [
      "done\n"
     ]
    }
   ],
   "source": [
    "file_name = 'pos_tags.pickle'\n",
    "#serialize(file_name,clust_tags)\n",
    "clust_tags = deserialize(file_name)\n",
    "print 'done'"
   ]
  },
  {
   "cell_type": "code",
   "execution_count": 23,
   "metadata": {
    "collapsed": false
   },
   "outputs": [],
   "source": [
    "old_cpy = copy.deepcopy(clust_tags)"
   ]
  },
  {
   "cell_type": "code",
   "execution_count": 24,
   "metadata": {
    "collapsed": true
   },
   "outputs": [],
   "source": [
    "def vectorize_pos(pos_set,pos_idx = {'NN' : 0 ,'VB' : 1,'JJ' : 2,'RB' : 3}):\n",
    "    \n",
    "    '''Convert the POS set to a binary vector according to pos_idx'''    \n",
    "    bin_pos_vec = 4*[False]\n",
    "    \n",
    "    for pos in pos_set:\n",
    "        \n",
    "        if pos == 'OT':\n",
    "            return 4*[False]\n",
    "        else:\n",
    "            bin_pos_vec[pos_idx[pos]] = True\n",
    "    \n",
    "    return bin_pos_vec"
   ]
  },
  {
   "cell_type": "code",
   "execution_count": 25,
   "metadata": {
    "collapsed": false
   },
   "outputs": [
    {
     "name": "stdout",
     "output_type": "stream",
     "text": [
      "[True, False, False, True]\n",
      "[False, False, False, False]\n"
     ]
    }
   ],
   "source": [
    "print vectorize_pos({'NN','RB'})\n",
    "print vectorize_pos({'NN','RB','JJ','VB','OT'})"
   ]
  },
  {
   "cell_type": "code",
   "execution_count": 26,
   "metadata": {
    "collapsed": false
   },
   "outputs": [],
   "source": [
    "def vectorize_tags_across_clusters(clust_tags):\n",
    "    '''Binarize the POS of words'''\n",
    "\n",
    "    for clust,doc in clust_tags.iteritems(): \n",
    "\n",
    "        doc_sent = defaultdict(defaultdict)\n",
    "\n",
    "        for doc,sent in doc.iteritems():\n",
    "\n",
    "            sent_word = defaultdict(defaultdict)\n",
    "\n",
    "            for sen_id,word_pos in sent.iteritems():\n",
    "\n",
    "\n",
    "                for word,pos in word_pos.iteritems():                            \n",
    "                    word_pos[word] = copy.deepcopy(vectorize_pos(pos))\n",
    "\n",
    "                sent_word[sen_id] = copy.deepcopy(word_pos)\n",
    "\n",
    "            doc_sent[doc] = copy.deepcopy(sent_word)\n",
    "\n",
    "        clust_tags[clust] = copy.deepcopy(doc_sent)\n",
    "\n",
    "    return clust_tags\n"
   ]
  },
  {
   "cell_type": "code",
   "execution_count": 27,
   "metadata": {
    "collapsed": false
   },
   "outputs": [],
   "source": [
    "new_clust_tags = vectorize_tags_across_clusters(clust_tags)"
   ]
  },
  {
   "cell_type": "code",
   "execution_count": 28,
   "metadata": {
    "collapsed": false,
    "scrolled": true
   },
   "outputs": [
    {
     "name": "stdout",
     "output_type": "stream",
     "text": [
      "defaultdict(<type 'set'>, {'and': set(['OT']), 'humans': set(['NN']), 'sales': set(['NN']), 'topic': set(['NN']), 'put': set(['VB']), 'britain': set(['NN']), 'in': set(['OT']), 'subject': set(['NN']), 'beef': set(['NN']), 'to': set(['OT']), 'crimp': set(['NN']), 'has': set(['VB']), 'be': set(['VB']), 'that': set(['OT']), 'domestic': set(['JJ']), 'pubs': set(['NN']), 'press': set(['NN']), 'a': set(['OT']), 'made': set(['VB']), 'concern': set(['NN']), 'of': set(['OT']), 'disease': set(['NN']), 'p': set(['NN']), 'transmitted': set(['VB']), 'can': set(['OT']), 'serious': set(['JJ']), 'the': set(['OT'])}) \n",
      "\n",
      "\n",
      "defaultdict(<type 'set'>, {'and': [False, False, False, False], 'humans': [True, False, False, False], 'sales': [True, False, False, False], 'topic': [True, False, False, False], 'put': [False, True, False, False], 'britain': [True, False, False, False], 'in': [False, False, False, False], 'subject': [True, False, False, False], 'beef': [True, False, False, False], 'to': [False, False, False, False], 'crimp': [True, False, False, False], 'has': [False, True, False, False], 'be': [False, True, False, False], 'that': [False, False, False, False], 'domestic': [False, False, True, False], 'pubs': [True, False, False, False], 'press': [True, False, False, False], 'a': [False, False, False, False], 'made': [False, True, False, False], 'concern': [True, False, False, False], 'of': [False, False, False, False], 'disease': [True, False, False, False], 'p': [True, False, False, False], 'transmitted': [False, True, False, False], 'can': [False, False, False, False], 'serious': [False, False, True, False], 'the': [False, False, False, False]})\n"
     ]
    }
   ],
   "source": [
    "print old_cpy['mad cow disease']['LA060490-0083'][2],'\\n\\n'\n",
    "print new_clust_tags['mad cow disease']['LA060490-0083'][2]"
   ]
  },
  {
   "cell_type": "markdown",
   "metadata": {},
   "source": [
    "<b>Feature 5 : A binary value equals one iff the output of the named entity classifier from CoreNLP is not empty  (Named Entity)"
   ]
  },
  {
   "cell_type": "code",
   "execution_count": 29,
   "metadata": {
    "collapsed": false
   },
   "outputs": [],
   "source": [
    "def extract_ners(data_root_dir,annotation_file):\n",
    "    '''Perform Named Entity Recognition on all sentences in all docs in all clusters'''\n",
    "    \n",
    "    clust_files = get_cluster_and_its_files(data_root_dir,annotation_file)\n",
    "    \n",
    "    clust_doc = defaultdict(defaultdict)\n",
    "    \n",
    "    for clust,files in clust_files.iteritems():    \n",
    "        \n",
    "        doc_sent = defaultdict(defaultdict)\n",
    "        \n",
    "        for file_name in files:            \n",
    "            \n",
    "            \n",
    "            file_path = data_root_dir + '/' + file_name\n",
    "            doc = get_text_from_doc(file_path,txt_opn_tag,txt_close_tag)\n",
    "            sentences = sent_detector.tokenize(doc)\n",
    "            sent_tokens =[tokenize_txt(sent,nltk_flag=True,ner_flag=True) for sent in sentences]\n",
    "            \n",
    "            sent_ner_cnt = defaultdict(int)\n",
    "            \n",
    "            for s_id,tok_sent in enumerate(sent_tokens):    \n",
    "                \n",
    "                \n",
    "                ners = ner_tagger.tag(tok_sent)\n",
    "                cnt = 0\n",
    "                for ner in ners:\n",
    "                    if ner[1] != 'O':\n",
    "                        cnt += 1\n",
    "                sent_ner_cnt[s_id] = cnt\n",
    "            \n",
    "            doc_sent[file_name] = copy.deepcopy(sent_ner_cnt)\n",
    "            \n",
    "            print 'FINISHED NER ON ', file_name\n",
    "        clust_doc[clust] = copy.deepcopy(doc_sent)\n",
    "        \n",
    "    return clust_doc"
   ]
  },
  {
   "cell_type": "raw",
   "metadata": {},
   "source": [
    "clust_ners = extract_ners(data_root_dir,annotation_file)"
   ]
  },
  {
   "cell_type": "code",
   "execution_count": 30,
   "metadata": {
    "collapsed": false
   },
   "outputs": [
    {
     "name": "stdout",
     "output_type": "stream",
     "text": [
      "done\n"
     ]
    }
   ],
   "source": [
    "file_name = 'ner_tags.pickle'\n",
    "#serialize(file_name,clust_ners)\n",
    "clust_ners = deserialize(file_name)\n",
    "print 'done'"
   ]
  },
  {
   "cell_type": "code",
   "execution_count": 31,
   "metadata": {
    "collapsed": false
   },
   "outputs": [
    {
     "data": {
      "text/plain": [
       "defaultdict(int,\n",
       "            {0: 1,\n",
       "             1: 1,\n",
       "             2: 1,\n",
       "             3: 0,\n",
       "             4: 0,\n",
       "             5: 0,\n",
       "             6: 1,\n",
       "             7: 0,\n",
       "             8: 1,\n",
       "             9: 1,\n",
       "             10: 0,\n",
       "             11: 2,\n",
       "             12: 1,\n",
       "             13: 0,\n",
       "             14: 1,\n",
       "             15: 0,\n",
       "             16: 0,\n",
       "             17: 0,\n",
       "             18: 0,\n",
       "             19: 0,\n",
       "             20: 0,\n",
       "             21: 0,\n",
       "             22: 0,\n",
       "             23: 2,\n",
       "             24: 0,\n",
       "             25: 0,\n",
       "             26: 0,\n",
       "             27: 0,\n",
       "             28: 1,\n",
       "             29: 0})"
      ]
     },
     "execution_count": 31,
     "metadata": {},
     "output_type": "execute_result"
    }
   ],
   "source": [
    "clust_ners['mad cow disease']['LA060490-0083']"
   ]
  },
  {
   "cell_type": "markdown",
   "metadata": {},
   "source": [
    "<b>Feature 6 : A binary value denotes if a word in Number  (Number)</b>"
   ]
  },
  {
   "cell_type": "code",
   "execution_count": 32,
   "metadata": {
    "collapsed": true
   },
   "outputs": [],
   "source": [
    "def extract_digit_cnt(data_root_dir,annotation_file,cnt_ratio_flag='C'):\n",
    "    '''Count the number of digits in a sentence'''\n",
    "    clust_files = get_cluster_and_its_files(data_root_dir,annotation_file)\n",
    "    \n",
    "    clust_doc = defaultdict(defaultdict)\n",
    "    \n",
    "    for clust,files in clust_files.iteritems():    \n",
    "        \n",
    "        doc_sent = defaultdict(defaultdict)\n",
    "        \n",
    "        for file_name in files:            \n",
    "            \n",
    "            \n",
    "            file_path = data_root_dir + '/' + file_name\n",
    "            doc = get_text_from_doc(file_path,txt_opn_tag,txt_close_tag)\n",
    "            sentences = sent_detector.tokenize(doc)\n",
    "            sent_tokens =[tokenize_txt(sent) for sent in sentences]\n",
    "            \n",
    "            sent_dig_cnt = defaultdict(int)\n",
    "            \n",
    "            dig_cnt = 0\n",
    "            for s_id,tok_sent in enumerate(sent_tokens):                                    \n",
    "                for tok in tok_sent:\n",
    "                    if tok.isdigit():\n",
    "                        dig_cnt += 1\n",
    "                if cnt_ratio_flag == 'C':\n",
    "                    sent_dig_cnt[s_id] = dig_cnt\n",
    "                else:\n",
    "                    sent_dig_cnt[s_id] = float(dig_cnt)/len(tok_sent)\n",
    "        \n",
    "            doc_sent[file_name] = copy.deepcopy(sent_dig_cnt)            \n",
    "        \n",
    "        clust_doc[clust] = copy.deepcopy(doc_sent)        \n",
    "        \n",
    "    return clust_doc"
   ]
  },
  {
   "cell_type": "code",
   "execution_count": 33,
   "metadata": {
    "collapsed": false
   },
   "outputs": [
    {
     "name": "stdout",
     "output_type": "stream",
     "text": [
      "done\n"
     ]
    }
   ],
   "source": [
    "clust_digs = extract_digit_cnt(data_root_dir,annotation_file)\n",
    "print 'done'"
   ]
  },
  {
   "cell_type": "code",
   "execution_count": 34,
   "metadata": {
    "collapsed": false
   },
   "outputs": [
    {
     "name": "stdout",
     "output_type": "stream",
     "text": [
      "3\n"
     ]
    }
   ],
   "source": [
    "print clust_digs['mad cow disease']['LA060490-0083'][29]"
   ]
  },
  {
   "cell_type": "markdown",
   "metadata": {},
   "source": [
    "<b>Feature 22 : The number of digits, divided by the sentence length(Number ratio)"
   ]
  },
  {
   "cell_type": "code",
   "execution_count": 35,
   "metadata": {
    "collapsed": false
   },
   "outputs": [
    {
     "name": "stdout",
     "output_type": "stream",
     "text": [
      "done\n"
     ]
    },
    {
     "data": {
      "text/plain": [
       "defaultdict(int,\n",
       "            {0: 0.0,\n",
       "             1: 0.0,\n",
       "             2: 0.0,\n",
       "             3: 0.0,\n",
       "             4: 0.0,\n",
       "             5: 0.0,\n",
       "             6: 0.0,\n",
       "             7: 0.0,\n",
       "             8: 0.03225806451612903,\n",
       "             9: 0.2,\n",
       "             10: 0.06451612903225806,\n",
       "             11: 0.10526315789473684,\n",
       "             12: 0.08333333333333333,\n",
       "             13: 0.07142857142857142,\n",
       "             14: 0.1111111111111111,\n",
       "             15: 0.2,\n",
       "             16: 0.09090909090909091,\n",
       "             17: 0.2222222222222222,\n",
       "             18: 0.07142857142857142,\n",
       "             19: 0.06666666666666667,\n",
       "             20: 0.10714285714285714,\n",
       "             21: 0.125,\n",
       "             22: 1.0,\n",
       "             23: 0.10714285714285714,\n",
       "             24: 0.1875,\n",
       "             25: 0.12,\n",
       "             26: 0.3333333333333333,\n",
       "             27: 0.21428571428571427,\n",
       "             28: 0.10714285714285714,\n",
       "             29: 1.0})"
      ]
     },
     "execution_count": 35,
     "metadata": {},
     "output_type": "execute_result"
    }
   ],
   "source": [
    "clust_dig_ratio = extract_digit_cnt(data_root_dir,annotation_file,'R')\n",
    "print 'done'\n",
    "clust_dig_ratio['mad cow disease']['LA060490-0083']"
   ]
  },
  {
   "cell_type": "markdown",
   "metadata": {},
   "source": [
    "<b>Feature 23 : The number of stop words, divided by the sentence length(Stop word ratio)"
   ]
  },
  {
   "cell_type": "code",
   "execution_count": 36,
   "metadata": {
    "collapsed": true
   },
   "outputs": [],
   "source": [
    "def stop_word_ratio(data_root_dir,annotation_file):\n",
    "    '''Compute the stop word ratio for all sentences'''\n",
    "    '''stop word ratio == no of stop words in sent / len(sent) '''\n",
    "    \n",
    "    english_stopwords = set(stopwords.words('english'))\n",
    "    \n",
    "    clust_files = get_cluster_and_its_files(data_root_dir,annotation_file)\n",
    "    \n",
    "    clust_doc = defaultdict(defaultdict)\n",
    "    \n",
    "    for clust,files in clust_files.iteritems():    \n",
    "        \n",
    "        doc_sent = defaultdict(defaultdict)\n",
    "        \n",
    "        for file_name in files:            \n",
    "            \n",
    "            \n",
    "            file_path = data_root_dir + '/' + file_name\n",
    "            doc = get_text_from_doc(file_path,txt_opn_tag,txt_close_tag)\n",
    "            sentences = sent_detector.tokenize(doc)\n",
    "            sent_tokens =[tokenize_txt(sent) for sent in sentences]\n",
    "            \n",
    "            sent_dig_cnt = defaultdict(int)\n",
    "            \n",
    "            \n",
    "            for s_id,tok_sent in enumerate(sent_tokens):      \n",
    "                stop_cnt = 0\n",
    "                for tok in tok_sent:\n",
    "                    if tok.lower() in english_stopwords:\n",
    "                        stop_cnt += 1\n",
    "                sent_dig_cnt[s_id] = float(stop_cnt)/len(tok_sent)\n",
    "        \n",
    "            doc_sent[file_name] = copy.deepcopy(sent_dig_cnt)            \n",
    "        \n",
    "        clust_doc[clust] = copy.deepcopy(doc_sent)        \n",
    "        \n",
    "    return clust_doc"
   ]
  },
  {
   "cell_type": "code",
   "execution_count": 37,
   "metadata": {
    "collapsed": false
   },
   "outputs": [
    {
     "name": "stdout",
     "output_type": "stream",
     "text": [
      "done\n",
      "0.392857142857\n"
     ]
    }
   ],
   "source": [
    "clust_stop_word_ratio = stop_word_ratio(data_root_dir,annotation_file)\n",
    "print 'done'\n",
    "print clust_stop_word_ratio['mad cow disease']['LA060490-0083'][18]"
   ]
  },
  {
   "cell_type": "markdown",
   "metadata": {},
   "source": [
    "<b>Feature 24 : No of words in the sentence (Sentence Length)"
   ]
  },
  {
   "cell_type": "code",
   "execution_count": 38,
   "metadata": {
    "collapsed": true
   },
   "outputs": [],
   "source": [
    "def sent_length(data_root_dir,annotation_file):\n",
    "    '''Compute the Lenght of sentences and store them in a dictionary'''    \n",
    "        \n",
    "    \n",
    "    clust_files = get_cluster_and_its_files(data_root_dir,annotation_file)\n",
    "    \n",
    "    clust_doc = defaultdict(defaultdict)\n",
    "    \n",
    "    for clust,files in clust_files.iteritems():    \n",
    "        \n",
    "        doc_sent = defaultdict(defaultdict)\n",
    "        \n",
    "        for file_name in files:            \n",
    "            \n",
    "            \n",
    "            file_path = data_root_dir + '/' + file_name\n",
    "            doc = get_text_from_doc(file_path,txt_opn_tag,txt_close_tag)\n",
    "            sentences = sent_detector.tokenize(doc)\n",
    "            sent_tokens =[tokenize_txt(sent) for sent in sentences]\n",
    "            \n",
    "            sent_dig_cnt = defaultdict(int)\n",
    "            \n",
    "            \n",
    "            for s_id,tok_sent in enumerate(sent_tokens):      \n",
    "                sent_dig_cnt[s_id] = len(tok_sent)\n",
    "        \n",
    "            doc_sent[file_name] = copy.deepcopy(sent_dig_cnt)            \n",
    "        \n",
    "        clust_doc[clust] = copy.deepcopy(doc_sent)        \n",
    "        \n",
    "    return clust_doc"
   ]
  },
  {
   "cell_type": "code",
   "execution_count": 39,
   "metadata": {
    "collapsed": false
   },
   "outputs": [
    {
     "name": "stdout",
     "output_type": "stream",
     "text": [
      "done\n",
      "10\n"
     ]
    }
   ],
   "source": [
    "clust_sent_lens = sent_length(data_root_dir,annotation_file)\n",
    "print 'done'\n",
    "print clust_sent_lens['mad cow disease']['LA060490-0083'][15]"
   ]
  },
  {
   "cell_type": "code",
   "execution_count": 40,
   "metadata": {
    "collapsed": false
   },
   "outputs": [
    {
     "name": "stdout",
     "output_type": "stream",
     "text": [
      "9\n"
     ]
    }
   ],
   "source": [
    "file_path = data_root_dir + '/' + 'LA060490-0083'\n",
    "doc = get_text_from_doc(file_path,txt_opn_tag,txt_close_tag)\n",
    "sentences = sent_detector.tokenize(doc)\n",
    "print len(sentences[15].split(' '))"
   ]
  },
  {
   "cell_type": "markdown",
   "metadata": {},
   "source": [
    "<b>Feature 21 : The number of named entities divided by sentence length (NER Ratio)"
   ]
  },
  {
   "cell_type": "code",
   "execution_count": 41,
   "metadata": {
    "collapsed": true
   },
   "outputs": [],
   "source": [
    "def ner_ratio(data_root_dir,annotation_file,clust_ners,clust_sent_lens):\n",
    "    '''Compute the Ratio of NERS : Sentence lenght and store them in a dictionary'''            \n",
    "    \n",
    "    clust_files = get_cluster_and_its_files(data_root_dir,annotation_file)\n",
    "    \n",
    "    clust_doc = defaultdict(defaultdict)\n",
    "    \n",
    "    for clust,files in clust_files.iteritems():    \n",
    "        \n",
    "        doc_sent = defaultdict(defaultdict)\n",
    "        \n",
    "        for file_name in files:            \n",
    "            \n",
    "            \n",
    "            file_path = data_root_dir + '/' + file_name\n",
    "            doc = get_text_from_doc(file_path,txt_opn_tag,txt_close_tag)\n",
    "            total_sents = len(sent_detector.tokenize(doc))\n",
    "            #sent_tokens =[tokenize_txt(sent) for sent in sentences]\n",
    "            \n",
    "            sent_ner_ratio = defaultdict(int)\n",
    "            \n",
    "            \n",
    "            for i in range(0,total_sents):\n",
    "                sent_ner_ratio[i] = float(clust_ners[clust][file_name][i])/clust_sent_lens[clust][file_name][i]\n",
    "                        \n",
    "        \n",
    "            doc_sent[file_name] = copy.deepcopy(sent_ner_ratio)            \n",
    "        \n",
    "        clust_doc[clust] = copy.deepcopy(doc_sent)        \n",
    "        \n",
    "    return clust_doc"
   ]
  },
  {
   "cell_type": "code",
   "execution_count": 42,
   "metadata": {
    "collapsed": false
   },
   "outputs": [
    {
     "name": "stdout",
     "output_type": "stream",
     "text": [
      "done\n",
      "0.105263157895\n"
     ]
    }
   ],
   "source": [
    "clust_ner_ratio = ner_ratio(data_root_dir,annotation_file,clust_ners,clust_sent_lens)\n",
    "print 'done'\n",
    "print clust_ner_ratio['mad cow disease']['LA060490-0083'][11]"
   ]
  },
  {
   "cell_type": "markdown",
   "metadata": {},
   "source": [
    "<b>Feature 20 : The number of nouns,verbs,adverbs, adjectives in the sentence, divided by the length of the sentence (POS Ratio)"
   ]
  },
  {
   "cell_type": "code",
   "execution_count": 43,
   "metadata": {
    "collapsed": true
   },
   "outputs": [],
   "source": [
    "def pos_ratio(data_root_dir,annotation_file,new_clust_tags,clust_sent_lens):\n",
    "    '''Compute the Ratio of nouns,verbs,adverbs and adjectives : Sentence lenght and store them in a dictionary'''\n",
    "      \n",
    "    clust_doc = defaultdict(defaultdict)\n",
    "    \n",
    "    clusters = clust_sent_lens.keys()      \n",
    "    for clust in clusters: \n",
    "        doc_sent = defaultdict(defaultdict)\n",
    "        \n",
    "        files = clust_sent_lens[clust].keys()\n",
    "                \n",
    "        for _file in files:\n",
    "            sent_ids = clust_sent_lens[clust][_file].keys()\n",
    "            \n",
    "            sent_pos_ratio = defaultdict(int)\n",
    "            \n",
    "                \n",
    "            for sent_id in sent_ids:\n",
    "                pos_cnt = 0\n",
    "                for word,tag_lst in new_clust_tags[clust][_file][sent_id].iteritems():\n",
    "                    '''\n",
    "                    if _file == 'LA060490-0083' and sent_id == 3:\n",
    "                        print tag_lst, pos_cnt*1.0/clust_sent_lens[clust][_file][sent_id]\n",
    "                        #print new_clust_tags[clust][_file][sent_id]                    \n",
    "                    '''\n",
    "                    if True in tag_lst:\n",
    "                        pos_cnt += 1                \n",
    "                sent_pos_ratio[sent_id] = float(pos_cnt)/ clust_sent_lens[clust][_file][sent_id]\n",
    "                \n",
    "            doc_sent[_file] = copy.deepcopy(sent_pos_ratio)   \n",
    "        \n",
    "        clust_doc[clust] = copy.deepcopy(doc_sent)        \n",
    "    \n",
    "    return clust_doc"
   ]
  },
  {
   "cell_type": "code",
   "execution_count": 44,
   "metadata": {
    "collapsed": false
   },
   "outputs": [
    {
     "name": "stdout",
     "output_type": "stream",
     "text": [
      "done\n"
     ]
    }
   ],
   "source": [
    "clust_pos_ratios = pos_ratio(data_root_dir,annotation_file,new_clust_tags,clust_sent_lens)\n",
    "print 'done'"
   ]
  },
  {
   "cell_type": "code",
   "execution_count": 45,
   "metadata": {
    "collapsed": false
   },
   "outputs": [
    {
     "data": {
      "text/plain": [
       "0.5263157894736842"
      ]
     },
     "execution_count": 45,
     "metadata": {},
     "output_type": "execute_result"
    }
   ],
   "source": [
    "clust_pos_ratios['mad cow disease']['LA060490-0083'][3]"
   ]
  },
  {
   "cell_type": "markdown",
   "metadata": {},
   "source": [
    "<b>Feature 14 : The position of the sentence. Suppose there are M sentences in the document \n",
    "    , then for the ith sentence the position is computed as 1-(i-1)/(M-1)              (POSITION)<b>"
   ]
  },
  {
   "cell_type": "code",
   "execution_count": 46,
   "metadata": {
    "collapsed": true
   },
   "outputs": [],
   "source": [
    "def sentence_pos(data_root_dir,annotation_file,clust_sent_lens):\n",
    "    '''Compute the position of the sentence, according to above formula'''\n",
    "      \n",
    "    clust_doc = defaultdict(defaultdict)\n",
    "    \n",
    "    clusters = clust_sent_lens.keys()      \n",
    "    for clust in clusters: \n",
    "        doc_sent = defaultdict(defaultdict)\n",
    "        \n",
    "        files = clust_sent_lens[clust].keys()\n",
    "                \n",
    "        for _file in files:\n",
    "            sent_ids = clust_sent_lens[clust][_file].keys()\n",
    "            \n",
    "            total_sents = len(clust_sent_lens[clust][_file].keys())\n",
    "            \n",
    "            #Avoid divide by 0 error\n",
    "            if total_sents == 1:\n",
    "                total_sents = 2 \n",
    "                \n",
    "            sent_positon = defaultdict(int)\n",
    "            \n",
    "                \n",
    "            for sent_id in sent_ids:\n",
    "                sent_positon[sent_id] =  1 - ( float( sent_id ) / (total_sents - 1) )\n",
    "                \n",
    "            doc_sent[_file] = copy.deepcopy(sent_positon)   \n",
    "        \n",
    "        clust_doc[clust] = copy.deepcopy(doc_sent)        \n",
    "    \n",
    "    return clust_doc"
   ]
  },
  {
   "cell_type": "code",
   "execution_count": 47,
   "metadata": {
    "collapsed": false
   },
   "outputs": [
    {
     "name": "stdout",
     "output_type": "stream",
     "text": [
      "done\n"
     ]
    }
   ],
   "source": [
    "clust_sent_pos = sentence_pos(data_root_dir,annotation_file,clust_sent_lens)\n",
    "print 'done'"
   ]
  },
  {
   "cell_type": "code",
   "execution_count": 48,
   "metadata": {
    "collapsed": false
   },
   "outputs": [
    {
     "data": {
      "text/plain": [
       "defaultdict(int,\n",
       "            {0: 1.0,\n",
       "             1: 0.9655172413793104,\n",
       "             2: 0.9310344827586207,\n",
       "             3: 0.896551724137931,\n",
       "             4: 0.8620689655172413,\n",
       "             5: 0.8275862068965517,\n",
       "             6: 0.7931034482758621,\n",
       "             7: 0.7586206896551724,\n",
       "             8: 0.7241379310344828,\n",
       "             9: 0.6896551724137931,\n",
       "             10: 0.6551724137931034,\n",
       "             11: 0.6206896551724138,\n",
       "             12: 0.5862068965517242,\n",
       "             13: 0.5517241379310345,\n",
       "             14: 0.5172413793103448,\n",
       "             15: 0.48275862068965514,\n",
       "             16: 0.4482758620689655,\n",
       "             17: 0.4137931034482759,\n",
       "             18: 0.3793103448275862,\n",
       "             19: 0.3448275862068966,\n",
       "             20: 0.31034482758620685,\n",
       "             21: 0.27586206896551724,\n",
       "             22: 0.24137931034482762,\n",
       "             23: 0.2068965517241379,\n",
       "             24: 0.1724137931034483,\n",
       "             25: 0.13793103448275867,\n",
       "             26: 0.10344827586206895,\n",
       "             27: 0.06896551724137934,\n",
       "             28: 0.03448275862068961,\n",
       "             29: 0.0})"
      ]
     },
     "execution_count": 48,
     "metadata": {},
     "output_type": "execute_result"
    }
   ],
   "source": [
    "clust_sent_pos['mad cow disease']['LA060490-0083']"
   ]
  },
  {
   "cell_type": "markdown",
   "metadata": {},
   "source": [
    "<b>Feature 17 : The mean TF of all words in the sentence, divided by the sentence length (Averaged TF)<b>"
   ]
  },
  {
   "cell_type": "code",
   "execution_count": 49,
   "metadata": {
    "collapsed": true
   },
   "outputs": [],
   "source": [
    "def averaged_tf(data_root_dir,annotation_file,clust_word_tfs):\n",
    "    '''Get the average TF values of words in a sentence and them in a dictionary'''\n",
    "    \n",
    "    clust_files = get_cluster_and_its_files(data_root_dir,annotation_file)\n",
    "    \n",
    "    clust_doc = defaultdict(defaultdict)\n",
    "    \n",
    "    for clust,files in clust_files.iteritems():    \n",
    "        \n",
    "        doc_sent = defaultdict(defaultdict)\n",
    "        \n",
    "        for file_name in files:                        \n",
    "            \n",
    "            file_path = data_root_dir + '/' + file_name\n",
    "            doc = get_text_from_doc(file_path,txt_opn_tag,txt_close_tag)\n",
    "            sentences = sent_detector.tokenize(doc)\n",
    "            sent_tokens =[tokenize_txt(sent,nltk_flag=True,ner_flag=True) for sent in sentences]\n",
    "            \n",
    "            sent_mean_tf = defaultdict(int)\n",
    "            \n",
    "            for s_id,tok_sent in enumerate(sent_tokens):    \n",
    "                mean_tf = 0\n",
    "                for word in tok_sent:\n",
    "                    mean_tf += clust_word_tfs[clust][word]\n",
    "                mean_tf = float(mean_tf)/len(tok_sent)\n",
    "                \n",
    "                sent_mean_tf[s_id] = mean_tf\n",
    "            \n",
    "            doc_sent[file_name] = copy.deepcopy(sent_mean_tf)\n",
    "                        \n",
    "        clust_doc[clust] = copy.deepcopy(doc_sent)\n",
    "        \n",
    "    return clust_doc"
   ]
  },
  {
   "cell_type": "code",
   "execution_count": 50,
   "metadata": {
    "collapsed": false
   },
   "outputs": [
    {
     "name": "stdout",
     "output_type": "stream",
     "text": [
      "done\n"
     ]
    }
   ],
   "source": [
    "clust_mean_tfs = averaged_tf(data_root_dir,annotation_file,clust_word_tfs)\n",
    "print 'done'"
   ]
  },
  {
   "cell_type": "code",
   "execution_count": 51,
   "metadata": {
    "collapsed": false
   },
   "outputs": [
    {
     "data": {
      "text/plain": [
       "defaultdict(int,\n",
       "            {0: 52.46875,\n",
       "             1: 33.78787878787879,\n",
       "             2: 79.97222222222223,\n",
       "             3: 67.77777777777777,\n",
       "             4: 54.36363636363637,\n",
       "             5: 120.4375,\n",
       "             6: 39.529411764705884,\n",
       "             7: 42.21739130434783,\n",
       "             8: 27.208333333333332,\n",
       "             9: 6.5,\n",
       "             10: 46.81481481481482,\n",
       "             11: 67.47368421052632,\n",
       "             12: 39.476190476190474,\n",
       "             13: 62.72,\n",
       "             14: 33.5625,\n",
       "             15: 50.09090909090909,\n",
       "             16: 59.388888888888886,\n",
       "             17: 60.22222222222222,\n",
       "             18: 74.3103448275862,\n",
       "             19: 26.076923076923077,\n",
       "             20: 62.21739130434783,\n",
       "             21: 59.8,\n",
       "             22: 0.6666666666666666,\n",
       "             23: 44.31818181818182,\n",
       "             24: 71.92857142857143,\n",
       "             25: 32.57142857142857,\n",
       "             26: 10.333333333333334,\n",
       "             27: 49.63636363636363,\n",
       "             28: 45.65384615384615,\n",
       "             29: 0.0})"
      ]
     },
     "execution_count": 51,
     "metadata": {},
     "output_type": "execute_result"
    }
   ],
   "source": [
    "clust_mean_tfs['mad cow disease']['LA060490-0083']"
   ]
  },
  {
   "cell_type": "markdown",
   "metadata": {},
   "source": [
    "<b>Feature 18 : The mean IDF of all words in the sentence, divided by the sentence length (Averaged IDF)<b>"
   ]
  },
  {
   "cell_type": "code",
   "execution_count": 52,
   "metadata": {
    "collapsed": true
   },
   "outputs": [],
   "source": [
    "def averaged_idf(data_root_dir,annotation_file,doc_freqs):\n",
    "    '''Get the average IDF values of words in a sentence and them in a dictionary'''\n",
    "    \n",
    "    clust_files = get_cluster_and_its_files(data_root_dir,annotation_file)\n",
    "    \n",
    "    clust_doc = defaultdict(defaultdict)\n",
    "    \n",
    "    for clust,files in clust_files.iteritems():    \n",
    "        \n",
    "        doc_sent = defaultdict(defaultdict)\n",
    "        \n",
    "        for file_name in files:                        \n",
    "            \n",
    "            file_path = data_root_dir + '/' + file_name\n",
    "            doc = get_text_from_doc(file_path,txt_opn_tag,txt_close_tag)\n",
    "            sentences = sent_detector.tokenize(doc)\n",
    "            sent_tokens =[tokenize_txt(sent,nltk_flag=True,ner_flag=True) for sent in sentences]\n",
    "            \n",
    "            sent_mean_idf = defaultdict(int)\n",
    "            \n",
    "            for s_id,tok_sent in enumerate(sent_tokens):    \n",
    "                mean_idf = 0\n",
    "                for word in tok_sent:\n",
    "                    mean_idf += doc_freqs[word]\n",
    "                mean_idf = float(mean_idf)/len(tok_sent)\n",
    "                \n",
    "                sent_mean_idf[s_id] = mean_idf\n",
    "            \n",
    "            doc_sent[file_name] = copy.deepcopy(sent_mean_idf)\n",
    "                        \n",
    "        clust_doc[clust] = copy.deepcopy(doc_sent)\n",
    "        \n",
    "    return clust_doc"
   ]
  },
  {
   "cell_type": "code",
   "execution_count": 53,
   "metadata": {
    "collapsed": false
   },
   "outputs": [
    {
     "name": "stdout",
     "output_type": "stream",
     "text": [
      "done\n"
     ]
    }
   ],
   "source": [
    "clust_mean_idfs = averaged_idf(data_root_dir,annotation_file,doc_freqs)\n",
    "print 'done'"
   ]
  },
  {
   "cell_type": "code",
   "execution_count": 54,
   "metadata": {
    "collapsed": false
   },
   "outputs": [
    {
     "data": {
      "text/plain": [
       "defaultdict(int,\n",
       "            {0: 32.9676003655945,\n",
       "             1: 33.900159108011366,\n",
       "             2: 36.70248740133245,\n",
       "             3: 22.232825952937723,\n",
       "             4: 20.81086023515057,\n",
       "             5: 16.980816560429865,\n",
       "             6: 17.692625701242967,\n",
       "             7: 26.943353899985787,\n",
       "             8: 28.281419427609936,\n",
       "             9: 9.258651554752458,\n",
       "             10: 18.860165464137836,\n",
       "             11: 52.797447968030994,\n",
       "             12: 34.1233555537647,\n",
       "             13: 19.791633880215812,\n",
       "             14: 29.56881183615931,\n",
       "             15: 11.795619061560934,\n",
       "             16: 27.671832240526257,\n",
       "             17: 30.09017123117265,\n",
       "             18: 11.606496726037758,\n",
       "             19: 21.9815518896864,\n",
       "             20: 30.171094131562324,\n",
       "             21: 25.695866018971874,\n",
       "             22: 137.33333333333334,\n",
       "             23: 21.31402431675951,\n",
       "             24: 35.044368860474044,\n",
       "             25: 32.764443042707775,\n",
       "             26: 27.279400223496722,\n",
       "             27: 40.18385425177738,\n",
       "             28: 16.169330035486237,\n",
       "             29: 51.5})"
      ]
     },
     "execution_count": 54,
     "metadata": {},
     "output_type": "execute_result"
    }
   ],
   "source": [
    "clust_mean_idfs['mad cow disease']['LA060490-0083']"
   ]
  },
  {
   "cell_type": "markdown",
   "metadata": {},
   "source": [
    "<b>Feature 19 : The mean CF of all words in the sentence, divided by the sentence length (Averaged CF)<b>"
   ]
  },
  {
   "cell_type": "code",
   "execution_count": 55,
   "metadata": {
    "collapsed": true
   },
   "outputs": [],
   "source": [
    "def averaged_cf(data_root_dir,annotation_file,clust_dfs):\n",
    "    '''Get the average Cluster freqs values of words in a sentence and them in a dictionary'''\n",
    "    \n",
    "    clust_files = get_cluster_and_its_files(data_root_dir,annotation_file)\n",
    "    \n",
    "    clust_doc = defaultdict(defaultdict)\n",
    "    \n",
    "    for clust,files in clust_files.iteritems():    \n",
    "        \n",
    "        doc_sent = defaultdict(defaultdict)\n",
    "        \n",
    "        for file_name in files:                        \n",
    "            \n",
    "            file_path = data_root_dir + '/' + file_name\n",
    "            doc = get_text_from_doc(file_path,txt_opn_tag,txt_close_tag)\n",
    "            sentences = sent_detector.tokenize(doc)\n",
    "            sent_tokens =[tokenize_txt(sent,nltk_flag=True,ner_flag=True) for sent in sentences]\n",
    "            \n",
    "            sent_mean_cf = defaultdict(int)\n",
    "            \n",
    "            for s_id,tok_sent in enumerate(sent_tokens):    \n",
    "                mean_cf = 0\n",
    "                for word in tok_sent:\n",
    "                    mean_cf += clust_dfs[clust][word]\n",
    "                mean_cf = float(mean_cf)/len(tok_sent)\n",
    "                \n",
    "                sent_mean_cf[s_id] = mean_cf\n",
    "            \n",
    "            doc_sent[file_name] = copy.deepcopy(sent_mean_cf)\n",
    "                        \n",
    "        clust_doc[clust] = copy.deepcopy(doc_sent)\n",
    "        \n",
    "    return clust_doc"
   ]
  },
  {
   "cell_type": "code",
   "execution_count": 56,
   "metadata": {
    "collapsed": false
   },
   "outputs": [
    {
     "name": "stdout",
     "output_type": "stream",
     "text": [
      "done\n"
     ]
    }
   ],
   "source": [
    "clust_mean_cfs = averaged_cf(data_root_dir,annotation_file,clust_dfs)\n",
    "print 'done'"
   ]
  },
  {
   "cell_type": "code",
   "execution_count": 57,
   "metadata": {
    "collapsed": false
   },
   "outputs": [
    {
     "data": {
      "text/plain": [
       "defaultdict(int,\n",
       "            {0: 4.9375,\n",
       "             1: 4.121212121212121,\n",
       "             2: 5.694444444444445,\n",
       "             3: 5.0,\n",
       "             4: 3.9545454545454546,\n",
       "             5: 6.125,\n",
       "             6: 3.0588235294117645,\n",
       "             7: 3.4782608695652173,\n",
       "             8: 3.6666666666666665,\n",
       "             9: 2.625,\n",
       "             10: 4.333333333333333,\n",
       "             11: 4.684210526315789,\n",
       "             12: 3.1904761904761907,\n",
       "             13: 5.56,\n",
       "             14: 4.3125,\n",
       "             15: 3.727272727272727,\n",
       "             16: 5.222222222222222,\n",
       "             17: 5.111111111111111,\n",
       "             18: 6.586206896551724,\n",
       "             19: 4.5,\n",
       "             20: 5.260869565217392,\n",
       "             21: 5.0,\n",
       "             22: 0.6666666666666666,\n",
       "             23: 4.2272727272727275,\n",
       "             24: 4.214285714285714,\n",
       "             25: 3.9523809523809526,\n",
       "             26: 3.6666666666666665,\n",
       "             27: 3.3636363636363638,\n",
       "             28: 4.576923076923077,\n",
       "             29: 0.0})"
      ]
     },
     "execution_count": 57,
     "metadata": {},
     "output_type": "execute_result"
    }
   ],
   "source": [
    "clust_mean_cfs['mad cow disease']['LA060490-0083']"
   ]
  },
  {
   "cell_type": "code",
   "execution_count": 58,
   "metadata": {
    "collapsed": false
   },
   "outputs": [],
   "source": [
    "def get_rouge_n_score(sent_1,sent_2,n=2,do_stem=True):\n",
    "    '''Normalize the overlapping n-grams and return the score'''\n",
    "    '''Sentences are converted to lower-case and words are stemmed'''\n",
    "    \n",
    "    #lower\n",
    "    sent_1 = sent_1.lower()\n",
    "    sent_2 = sent_2.lower()\n",
    "    \n",
    "    \n",
    "    tokenizer = tokenizers.Tokenizer('english')\n",
    "\n",
    "    sent_1_toks = tokenizer.to_words(sent_1)\n",
    "    sent_2_toks = tokenizer.to_words(sent_2)\n",
    "    \n",
    "    \n",
    "    #stem the sentence\n",
    "    if do_stem == True:\n",
    "        sent_1 = ' '.join([stem(tok) for tok in sent_1_toks])\n",
    "        sent_2 = ' '.join([stem(tok) for tok in sent_2_toks])\n",
    "    \n",
    "    \n",
    "    sent_obj_1= dom.Sentence(sent_1,tokenizer)\n",
    "    sent_obj_2= dom.Sentence(sent_2,tokenizer)\n",
    "    \n",
    "    \n",
    "    return evaluation.rouge_n([sent_obj_1],[sent_obj_2])\n",
    "    "
   ]
  },
  {
   "cell_type": "code",
   "execution_count": 59,
   "metadata": {
    "collapsed": false
   },
   "outputs": [
    {
     "name": "stdout",
     "output_type": "stream",
     "text": [
      "ROGUE With stemming:  1.0\n",
      "ROGuE Without stemming:  0.666666666667\n"
     ]
    }
   ],
   "source": [
    "print 'ROGUE With stemming: ' , get_rouge_n_score('This iS SentENce CooLing','This is Sentence cool',2,True)\n",
    "print 'ROGuE Without stemming: ' , get_rouge_n_score('This iS SentENce CooLing','This is Sentence cool',2,False)"
   ]
  },
  {
   "cell_type": "code",
   "execution_count": 60,
   "metadata": {
    "collapsed": true
   },
   "outputs": [],
   "source": [
    "def get_docs_without_summary(data_root_dir,annotation_file):\n",
    "    '''Return a dictionary of the form {clust1 : [doc1,doc2...],clust2 : [doc1,doc2...] ....}'''\n",
    "    '''The key is the cluster name, the value is a list of documents, for which summary do not exist'''\n",
    "    '''This is because, certain documents in the DUC dataset do not have a summary. To weed out such documents, this function\n",
    "       will be called.'''\n",
    "    \n",
    "    clust_files = get_cluster_and_its_files(data_root_dir,annotation_file)\n",
    "    \n",
    "    files_with_summ = set( [fname.lower() for fname in listdir(data_root_dir+ '/' + 'Summaries' + '/')] )\n",
    "    clust_docs_wo_summ = defaultdict(list)\n",
    "    \n",
    "    for clust,files in clust_files.iteritems():\n",
    "        for _file in files:\n",
    "            tmp = _file + '.txt'\n",
    "            if tmp.lower() not in files_with_summ:\n",
    "                clust_docs_wo_summ[clust].append(_file)\n",
    "    \n",
    "    return clust_docs_wo_summ\n",
    "    "
   ]
  },
  {
   "cell_type": "code",
   "execution_count": 61,
   "metadata": {
    "collapsed": false
   },
   "outputs": [
    {
     "name": "stdout",
     "output_type": "stream",
     "text": [
      "defaultdict(<type 'list'>, {'ben johnson': ['AP880928-0054'], 'tornadoes': ['AP891116-0191', 'LA070190-0073'], 'crash': ['FBIS4-4674'], 'illegal aliens': ['LA071589-0076'], 'u.s. tanker spill': ['AP830325-0143'], 'north american free trade agreement': ['FT934-10911']})\n"
     ]
    }
   ],
   "source": [
    "docs_without_summ = get_docs_without_summary(data_root_dir,annotation_file)\n",
    "print docs_without_summ"
   ]
  },
  {
   "cell_type": "code",
   "execution_count": 62,
   "metadata": {
    "collapsed": true
   },
   "outputs": [],
   "source": [
    "def extract_gold_summ_from_doc(document_path):\n",
    "    '''Extract the Gold summary of a document.'''\n",
    "    '''Gold summary is of the form <Abstract:> This is the summary <Introduction:>'''\n",
    "    start_tag = 'Abstract:'\n",
    "    close_tag = 'Introduction:'\n",
    "    \n",
    "    f = open(document_path,'r')\n",
    "    content = f.read()\n",
    "    f.close()\n",
    "    \n",
    "    start = content.index(start_tag) + len(start_tag)\n",
    "    end   = content.index(close_tag)\n",
    "    \n",
    "    return content[start:end].strip()"
   ]
  },
  {
   "cell_type": "code",
   "execution_count": 63,
   "metadata": {
    "collapsed": false
   },
   "outputs": [
    {
     "name": "stdout",
     "output_type": "stream",
     "text": [
      "Lawmakers are having difficulty coming to an agreement on whether or not illegal aliens should be counted in the 1990 census. The U.S. Constitution requires the Census Bureau to count all the \"persons\" in the country every ten years for purposes of reapportionment of seats in the house of representatives. It does not specify citizens. Some representatives feel that illegal aliens, if counted, may give some states like California and Texas and extra seat. Since there is a 435-seat limit, some representatives fear that their states may loose a seat. In the past, every state has counted legal and illegal aliens in the census.\n"
     ]
    }
   ],
   "source": [
    "doc_path = data_root_dir+ '/' + 'Summaries' + '/' + 'ap880623-0135.txt'\n",
    "summ = extract_gold_summ_from_doc(doc_path)\n",
    "print summ"
   ]
  },
  {
   "cell_type": "markdown",
   "metadata": {},
   "source": [
    "###Construct the train Matrix with the dimensions M*N,where: \n",
    "<b>N = $\\sum_{i=1}^c\\sum_{j=1}^{d_i}{X_{ij}}$ where c is the no of clusters, ${d_i}$ is the no of docs in ${cluster_i}$ , $X_{ij}$ is the no of sentences in $j^{th}$ doc of $i^{th} cluster$<b><br>\n",
    "<b>M = no of features for every sentence</b>"
   ]
  },
  {
   "cell_type": "code",
   "execution_count": 64,
   "metadata": {
    "collapsed": false
   },
   "outputs": [],
   "source": [
    "def convert_dict_to_feature_column(clust_files,docs_without_summ):\n",
    "    '''Convert the nested dictionary to a feature column'''    \n",
    "    feature_col = []\n",
    "    \n",
    "    clusters = sorted(clust_files.keys())\n",
    "    \n",
    "    for clust in clusters:         \n",
    "        \n",
    "        files = sorted(clust_files[clust].keys())\n",
    "                \n",
    "        for _file in files:\n",
    "            \n",
    "            #Ignore the docs that do not have a summary.            \n",
    "            if _file not in docs_without_summ[clust]:\n",
    "                sent_ids = sorted(clust_files[clust][_file].keys())                            \n",
    "                for sent_id in sent_ids:\n",
    "                    feature_col.append(clust_files[clust][_file][sent_id])            \n",
    "\n",
    "    \n",
    "    return np.array(feature_col)"
   ]
  },
  {
   "cell_type": "code",
   "execution_count": 65,
   "metadata": {
    "collapsed": true
   },
   "outputs": [],
   "source": [
    "def construct_X_Matrix(clust_sent_pos,clust_sent_lens,clust_mean_tfs,clust_mean_idfs,clust_mean_cfs,clust_pos_ratios,\n",
    "                       clust_ner_ratio,clust_dig_ratio,clust_stop_word_ratio):\n",
    "    \n",
    "    '''Construct the X_Matrix by stacking the Features, columnwise, for all sentences. Finally return X_train'''\n",
    "    \n",
    "    F_position        = convert_dict_to_feature_column(clust_sent_pos,docs_without_summ)\n",
    "    F_length          = convert_dict_to_feature_column(clust_sent_lens,docs_without_summ)\n",
    "    F_mean_tfs        = convert_dict_to_feature_column(clust_mean_tfs,docs_without_summ)\n",
    "    F_mean_idfs       = convert_dict_to_feature_column(clust_mean_idfs,docs_without_summ)\n",
    "    F_mean_cfs        = convert_dict_to_feature_column(clust_mean_cfs,docs_without_summ)\n",
    "    F_pos_ratio       = convert_dict_to_feature_column(clust_pos_ratios,docs_without_summ)\n",
    "    F_ner_ratio       = convert_dict_to_feature_column(clust_ner_ratio,docs_without_summ)\n",
    "    F_dig_ratio       = convert_dict_to_feature_column(clust_dig_ratio,docs_without_summ)\n",
    "    F_stop_word_ratio = convert_dict_to_feature_column(clust_stop_word_ratio,docs_without_summ)\n",
    "    \n",
    "    stack = (F_position,F_length,F_mean_tfs,F_mean_idfs,F_mean_cfs,F_pos_ratio,F_ner_ratio,F_dig_ratio,F_stop_word_ratio)\n",
    "    return np.column_stack(stack)"
   ]
  },
  {
   "cell_type": "code",
   "execution_count": 66,
   "metadata": {
    "collapsed": false
   },
   "outputs": [],
   "source": [
    "def construct_Y(clust_files,docs_without_summ):\n",
    "    '''Construct the Y output value(ROGUE Score) for every sentence in the document, along\n",
    "       with the gold summary of the document.  i.e ROGUE(sentence,summary)'''    \n",
    "    feature_col = []\n",
    "    \n",
    "    clusters = sorted(clust_files.keys())\n",
    "    \n",
    "    for clust in clusters:         \n",
    "        \n",
    "        files = sorted(clust_files[clust])\n",
    "                \n",
    "        for _file in files:\n",
    "            \n",
    "            #Ignore the docs that do not have a summary.            \n",
    "            if _file not in docs_without_summ[clust]:\n",
    "\n",
    "                file_path = data_root_dir + '/' + _file\n",
    "                doc = get_text_from_doc(file_path,txt_opn_tag,txt_close_tag)\n",
    "                sentences = sent_detector.tokenize(doc)\n",
    "                \n",
    "                sum_file_path = data_root_dir+ '/' + 'Summaries' + '/' + _file.lower() + '.txt'\n",
    "                gold_summ = extract_gold_summ_from_doc(sum_file_path)\n",
    "                \n",
    "                for sent in sentences:\n",
    "                    try:\n",
    "                        rouge_score = get_rouge_n_score(sent,gold_summ)                        \n",
    "                    except:\n",
    "                        rouge_score = 0\n",
    "                    \n",
    "                    #To avoid divide by zero error\n",
    "                    feature_col.append(rouge_score)\n",
    "                        \n",
    "    \n",
    "    return np.array(feature_col)"
   ]
  },
  {
   "cell_type": "markdown",
   "metadata": {},
   "source": [
    "<b>Cross Validate and plot the predicted mean ROGUE square error</b><br><br>\n",
    "The Cost function is $J(\\theta)=\\frac{1}{m}\\sum_{i=1}^m ROGUE\\_SCORE(pred_i,actual_i),$ <br>where \n",
    "$pred_i $ is the predicted ROGUE score of $sentence_i$ and $actual_i $ is the real ROGUE score of $sentence_i$"
   ]
  },
  {
   "cell_type": "code",
   "execution_count": 67,
   "metadata": {
    "collapsed": true
   },
   "outputs": [],
   "source": [
    "def do_cross_validation(X_Matrix,Y,clf,n_folds,degree,Model='ridge'):\n",
    "    '''Perform n-fold cross validation.    \n",
    "    Params:\n",
    "        X.........a Matrix of features\n",
    "        y.........the true rogue score of each sentence\n",
    "        n_folds...the number of folds of cross-validation to do\n",
    "        \n",
    "    Return:\n",
    "        the average testing accuracy across all folds.'''\n",
    "    \n",
    "    if Model != 'deep':\n",
    "        poly = PolynomialFeatures(degree)\n",
    "        X_Matrix = poly.fit_transform(X_Matrix)\n",
    "    \n",
    "    accuracies = []\n",
    "    cv = KFold(len(Y), n_folds)\n",
    "    for train_idx, test_idx in cv:        \n",
    "        clf.fit(X_Matrix[train_idx], Y[train_idx])\n",
    "        predicted = clf.predict(X_Matrix[test_idx])        \n",
    "        error = np.mean(np.abs(predicted - Y[test_idx]))\n",
    "        accuracies.append(error)                \n",
    "    avg = np.mean(accuracies)    \n",
    "    return avg\n",
    "    "
   ]
  },
  {
   "cell_type": "code",
   "execution_count": 68,
   "metadata": {
    "collapsed": false
   },
   "outputs": [],
   "source": [
    "def plot_accuracies(X_Matrix,Y,clf,n_folds=10,poly_degrees=[1,2,3,4]):\n",
    "    '''Plot a graph of Test Error vs Polynomial Order'''        \n",
    "    errors = [do_cross_validation(X_Matrix,Y,clf,n_folds,degree) for degree in poly_degrees] \n",
    "    plt.title('Ridge Regression')\n",
    "    plt.ylabel('Validation Error')\n",
    "    plt.xlabel('Polynomial Degree')\n",
    "    plt.plot(poly_degrees, errors,'r-')\n",
    "    plt.show()"
   ]
  },
  {
   "cell_type": "code",
   "execution_count": 69,
   "metadata": {
    "collapsed": false
   },
   "outputs": [],
   "source": [
    "def find_best_order(n_folds,Y,poly_degrees):    \n",
    "    '''Experiment with various settings and figure the best polynomial setting'''    \n",
    "    X_Matrix = construct_X_Matrix(clust_sent_pos,clust_sent_lens,clust_mean_tfs,clust_mean_idfs,clust_mean_cfs,clust_pos_ratios,\n",
    "                           clust_ner_ratio,clust_dig_ratio,clust_stop_word_ratio)\n",
    "    \n",
    "    \n",
    "    plot_accuracies(X_Matrix,Y,Ridge(),n_folds,poly_degrees)"
   ]
  },
  {
   "cell_type": "code",
   "execution_count": 70,
   "metadata": {
    "collapsed": false
   },
   "outputs": [
    {
     "data": {
      "image/png": "[encoded data removed]",
      "text/plain": [
       "<matplotlib.figure.Figure at 0x7efbb9a01550>"
      ]
     },
     "metadata": {},
     "output_type": "display_data"
    }
   ],
   "source": [
    "Y = construct_Y(clust_files,docs_without_summ)\n",
    "n_folds=10\n",
    "poly_degrees=[1,2,3]\n",
    "find_best_order(n_folds,Y,poly_degrees)"
   ]
  },
  {
   "cell_type": "markdown",
   "metadata": {},
   "source": [
    "<b> Seems the Validation error is minimum when the polynomial order is 2. Raise the X_Matrix to this order and fit the Regressor</b>"
   ]
  },
  {
   "cell_type": "code",
   "execution_count": 118,
   "metadata": {
    "collapsed": true
   },
   "outputs": [],
   "source": [
    "def get_best_clf(best_order,Y,clf):\n",
    "    \n",
    "    poly = PolynomialFeatures(best_order)        \n",
    "    \n",
    "    X_Matrix = construct_X_Matrix(clust_sent_pos,clust_sent_lens,clust_mean_tfs,clust_mean_idfs,clust_mean_cfs,clust_pos_ratios,\n",
    "                           clust_ner_ratio,clust_dig_ratio,clust_stop_word_ratio)\n",
    "    X_Matrix = poly.fit_transform(X_Matrix)\n",
    "    \n",
    "    print X_Matrix\n",
    "    clf.fit(X_Matrix,Y)\n",
    "    print '\\nFitted Regressor with best settings'\n",
    "    return clf"
   ]
  },
  {
   "cell_type": "code",
   "execution_count": 119,
   "metadata": {
    "collapsed": false
   },
   "outputs": [
    {
     "name": "stdout",
     "output_type": "stream",
     "text": [
      "[[  1.00000000e+00   1.00000000e+00   3.20000000e+01 ...,   0.00000000e+00\n",
      "    0.00000000e+00   1.18164062e-01]\n",
      " [  1.00000000e+00   9.78260870e-01   2.50000000e+01 ...,   0.00000000e+00\n",
      "    0.00000000e+00   1.93600000e-01]\n",
      " [  1.00000000e+00   9.56521739e-01   2.80000000e+01 ...,   1.27551020e-03\n",
      "    1.27551020e-02   1.27551020e-01]\n",
      " ..., \n",
      " [  1.00000000e+00   3.44827586e-02   2.40000000e+01 ...,   2.77777778e-02\n",
      "    7.63888889e-02   2.10069444e-01]\n",
      " [  1.00000000e+00   1.72413793e-02   3.40000000e+01 ...,   1.38408304e-02\n",
      "    2.76816609e-02   5.53633218e-02]\n",
      " [  1.00000000e+00   0.00000000e+00   1.00000000e+01 ...,   1.60000000e-01\n",
      "    1.20000000e-01   9.00000000e-02]]\n",
      "\n",
      "Fitted Regressor with best settings\n"
     ]
    }
   ],
   "source": [
    "clf = get_best_clf(2,Y,Ridge())"
   ]
  },
  {
   "cell_type": "code",
   "execution_count": 120,
   "metadata": {
    "collapsed": true
   },
   "outputs": [],
   "source": [
    "def construct_X_Matrix_for_test_doc(cluster,document,clust_sent_pos,clust_sent_lens,clust_mean_tfs,clust_mean_idfs,\n",
    "                                    clust_mean_cfs,clust_pos_ratios,clust_ner_ratio,clust_dig_ratio,\n",
    "                                    clust_stop_word_ratio,poly_order):\n",
    "    \n",
    "    '''Extract all the features for a given document and return the extracted features'''\n",
    "    \n",
    "    X_Matrix = []\n",
    "    \n",
    "    for sent_id in clust_sent_pos[cluster][document].keys():                \n",
    "        \n",
    "        F_position = clust_sent_pos[cluster][document][sent_id]\n",
    "        F_length = clust_sent_lens[cluster][document][sent_id]\n",
    "        F_mean_tfs = clust_mean_tfs[cluster][document][sent_id]\n",
    "        F_mean_idfs = clust_mean_idfs[cluster][document][sent_id]\n",
    "        F_mean_cfs = clust_sent_pos[cluster][document][sent_id]\n",
    "        F_pos_ratio = clust_pos_ratios[cluster][document][sent_id]\n",
    "        F_ner_ratio = clust_ner_ratio[cluster][document][sent_id]\n",
    "        F_dig_ratio = clust_dig_ratio[cluster][document][sent_id]\n",
    "        F_stop_word_ratio = clust_stop_word_ratio[cluster][document][sent_id]\n",
    "        \n",
    "        row = [F_position,F_length,F_mean_tfs,F_mean_idfs,F_mean_cfs,\n",
    "                        F_pos_ratio,F_ner_ratio,F_dig_ratio,F_stop_word_ratio]\n",
    "        \n",
    "        X_Matrix.append(row)\n",
    "    \n",
    "    poly = PolynomialFeatures(poly_order)\n",
    "    X_Matrix = poly.fit_transform(np.array(X_Matrix))\n",
    "    \n",
    "    return X_Matrix"
   ]
  },
  {
   "cell_type": "markdown",
   "metadata": {},
   "source": [
    "<b> Greedy Based Sentence Selection.<br>\n",
    "-are_sentences_salient()<br>\n",
    "-select_sentences()<br></b>"
   ]
  },
  {
   "cell_type": "code",
   "execution_count": 121,
   "metadata": {
    "collapsed": false
   },
   "outputs": [],
   "source": [
    "def are_sentences_salient(clust,sent_1,sent_2,threshold=0.6):\n",
    "    '''Check if the sentences are salient based on a threshold.\n",
    "       If COSINE_SIM(sent_1,sent_2) < 0.6, return True. Else False'''\n",
    "    \n",
    "    sent_1_toks = tokenize_txt(sent_1)\n",
    "    sent_2_toks = tokenize_txt(sent_2)\n",
    "    \n",
    "    vocab = list(set(sent_1_toks) | set(sent_2_toks))\n",
    "    \n",
    "    vec_1 = []\n",
    "    vec_2 = []\n",
    "    \n",
    "    for token in vocab:                        \n",
    "        tf = clust_word_tfs[clust][token]\n",
    "        idf = doc_freqs[token]                \n",
    "        tf_idf = tf*idf\n",
    "                \n",
    "        if token in sent_1_toks and token in sent_2_toks:            \n",
    "            vec_1.append(tf_idf)\n",
    "            vec_2.append(tf_idf)            \n",
    "        elif token in sent_1_toks and token not in sent_2_toks:            \n",
    "            vec_1.append(tf_idf)\n",
    "            vec_2.append(0.0)\n",
    "        elif token not in sent_1_toks and token in sent_2_toks:            \n",
    "            vec_1.append(0.0)\n",
    "            vec_2.append(tf_idf)\n",
    "    \n",
    "    vec_1 = np.array(vec_1).reshape(1,-1)\n",
    "    vec_2 = np.array(vec_2).reshape(1,-1)\n",
    "    \n",
    "    sim_score = list(cosine_similarity(vec_1,vec_2)[0])[0]        \n",
    "    \n",
    "    if sim_score < threshold:\n",
    "        return True\n",
    "    else:\n",
    "        return False"
   ]
  },
  {
   "cell_type": "code",
   "execution_count": 122,
   "metadata": {
    "collapsed": false
   },
   "outputs": [
    {
     "name": "stdout",
     "output_type": "stream",
     "text": [
      "True\n",
      "False\n"
     ]
    }
   ],
   "source": [
    "s1 = 'A commission chaired by Professor Sir Richard Southwood '\n",
    "s2 = 'The government has committed $19 million to finding the cause of the disease Germany'\n",
    "print are_sentences_salient('mad cow disease',s1  ,s2,threshold=0.6)\n",
    "\n",
    "s1 = '$19 million disease Germany '\n",
    "s2 = 'The government has committed $19 million to finding the cause of the disease Germany'\n",
    "print are_sentences_salient('mad cow disease',s1  ,s2,threshold=0.6)"
   ]
  },
  {
   "cell_type": "code",
   "execution_count": 123,
   "metadata": {
    "collapsed": true
   },
   "outputs": [],
   "source": [
    "def doc_to_sent_list(document):\n",
    "    '''Convert a document to a list of sentences'''\n",
    "    \n",
    "    file_path = data_root_dir + '/' + document\n",
    "    doc = get_text_from_doc(file_path,txt_opn_tag,txt_close_tag)\n",
    "    sentences = sent_detector.tokenize(doc)\n",
    "    \n",
    "    return sentences"
   ]
  },
  {
   "cell_type": "code",
   "execution_count": 124,
   "metadata": {
    "collapsed": true
   },
   "outputs": [],
   "source": [
    "def select_sentences(cluster,document,y_hats,sents_in_summ):\n",
    "    '''In each step of the selection,based on the greedy approach, select a sentence if it satisfies 2 conditions:\n",
    "       1. It has the next maximum predicted ROGUE score\n",
    "       2. It is salient and not very similar to the previously generated sentence in the summary'''\n",
    "       \n",
    "    top_scores = sorted(y_hats,reverse=True)\n",
    "    \n",
    "    prev_sent = ''\n",
    "    sent_id = 0\n",
    "    j = 0\n",
    "    \n",
    "    all_sentences = doc_to_sent_list(document)\n",
    "    \n",
    "    summary = ''\n",
    "    while(sent_id < sents_in_summ and j < len(top_scores)):\n",
    "        top_sent_idx = y_hats.index(top_scores[j])\n",
    "        cur_sent = all_sentences[top_sent_idx]\n",
    "        if are_sentences_salient(cluster,prev_sent,cur_sent,threshold=0.6):\n",
    "            summary += cur_sent + ' '\n",
    "            prev_sent = cur_sent\n",
    "            sent_id += 1            \n",
    "        j += 1\n",
    "    \n",
    "    return summary"
   ]
  },
  {
   "cell_type": "code",
   "execution_count": 128,
   "metadata": {
    "collapsed": false
   },
   "outputs": [],
   "source": [
    "def generate_summary(cluster,document,clf,order,i,sents_in_summ=2):\n",
    "    \n",
    "    '''Generate the summary for a document with sents_in_summ number of sentences in it'''\n",
    "    \n",
    "    X_Matrix = construct_X_Matrix_for_test_doc(cluster,document,clust_sent_pos,clust_sent_lens,clust_mean_tfs,\n",
    "                                clust_mean_idfs,clust_mean_cfs,clust_pos_ratios,clust_ner_ratio,\n",
    "                                clust_dig_ratio,clust_stop_word_ratio,order)\n",
    "    \n",
    "    y_hats = list(clf.predict(X_Matrix))   \n",
    "    \n",
    "    print 'Generated SUMMARY for doc ',i, '::\\n-----------------------------------'        \n",
    "    summary = select_sentences(cluster,document,y_hats,sents_in_summ)\n",
    "    print str.replace(str.replace(summary,'<P>',''),'</P>','').strip()\n",
    "    print '\\n'        \n",
    "    \n",
    "    print 'Actual SUMMARY for doc ',i, '::\\n-----------------------------------'    \n",
    "    summary_path = data_root_dir+ '/' + 'Summaries' + '/' + document.lower() + '.txt'\n",
    "    print extract_gold_summ_from_doc(summary_path)\n",
    "    print '\\n~~~~~~~~~~~~~~~~~~~~~~~~~~~~~~~~~~~~~~~~~~~~~~~~~~~~~~~~~~~~~~~~~~~~~~~~~~~~~~~~~~~~~~~~~~~~~~~~~~~~~~~~'\n",
    "    \n",
    "    '''\n",
    "    print 'COMPLETE TEXT :: \\n---------------------'\n",
    "    complete_text = ''.join([sent for sent in sentences])\n",
    "    print str.replace(str.replace(complete_text,'<P>',''),'</P>','').strip()\n",
    "    '''\n",
    "    "
   ]
  },
  {
   "cell_type": "code",
   "execution_count": 129,
   "metadata": {
    "collapsed": true
   },
   "outputs": [],
   "source": [
    "def random_summaries(prob,sents=1):\n",
    "    '''Generate summaries for approx ( (1-prob) *total_docs) number of documents\n",
    "       total_docs = 300 approx.\n",
    "       prob should be in the range : 0 <= prob <= 1.0 . 0 indicates all documents, 1 indicates none of the documents'''\n",
    "    \n",
    "    i = 1\n",
    "    for clust,docs in clust_files.items():\n",
    "        for doc in docs:        \n",
    "            if np.random.uniform(low=0.0, high=1.0) > prob and doc not in docs_without_summ[clust] :\n",
    "                generate_summary(clust,doc,clf,2,i,sents)\n",
    "                i += 1\n",
    "                \n",
    "    print 'Generation Complete'"
   ]
  },
  {
   "cell_type": "code",
   "execution_count": 130,
   "metadata": {
    "collapsed": false,
    "scrolled": false
   },
   "outputs": [
    {
     "name": "stdout",
     "output_type": "stream",
     "text": [
      "Generated SUMMARY for doc  1 ::\n",
      "-----------------------------------\n",
      "Black Americans suffer six times more tuberculosis\n",
      "than whites do, and one important reason appears to be a genetic\n",
      "susceptibility to the disease, according to a study today.\n",
      "\n",
      "\n",
      "Actual SUMMARY for doc  1 ::\n",
      "-----------------------------------\n",
      "As of 1990, about 22,000 cases of tuberculosis are being reported annually, resulting in 1,700 deaths. Blacks are six times more likely to have tuberculosis than are whites. The disparity has long been attributed to crowded housing and other conditions of poverty. A recently published study concluded that blacks are innately more susceptible to the disease, and that when living conditions were comparable blacks were only twice as likely to contract the disease. Specialists in the area were intrigued and impressed by the study, but not all were willing to agree that biology, and not social factors, was the major factor.\n",
      "\n",
      "~~~~~~~~~~~~~~~~~~~~~~~~~~~~~~~~~~~~~~~~~~~~~~~~~~~~~~~~~~~~~~~~~~~~~~~~~~~~~~~~~~~~~~~~~~~~~~~~~~~~~~~~\n",
      "Generated SUMMARY for doc  2 ::\n",
      "-----------------------------------\n",
      "The South African concern, which controls 80% of the world diamond market through its London-based Central Selling Organization, sells a vast array of diamonds, varying in quality and size, dealers say.\n",
      "\n",
      "\n",
      "Actual SUMMARY for doc  2 ::\n",
      "-----------------------------------\n",
      "South Africa's De Beers Consolidated Mines, which controls 80% of the world diamond market through its London-based Central Selling Organization, is raising its diamond prices an average 10%. Rough diamonds were already trading at a premium over De Beers' own quotes on the open market, especially in the Far East. In Japan, the second biggest diamond-jewelry market after the US, appreciation of the yen reduced diamonds' cost. Per-carat prices of D-flawless diamonds have risen to $14,800 from $12,000 since the beginning of the year. De Beers revived diamond trade from an early-80s slump through an aggressive marketing campaign and withholding stocks.\n",
      "\n",
      "~~~~~~~~~~~~~~~~~~~~~~~~~~~~~~~~~~~~~~~~~~~~~~~~~~~~~~~~~~~~~~~~~~~~~~~~~~~~~~~~~~~~~~~~~~~~~~~~~~~~~~~~\n",
      "Generated SUMMARY for doc  3 ::\n",
      "-----------------------------------\n",
      "END SUMMARY \n",
      "   Although La Republica, a prominent anti-Fujimori daily, provided \n",
      "little information on the origins of the \"important and unusual\" \n",
      "document that it published in a special 25 January supplement, it \n",
      "assured its readers that the lengthy ideological tract explaining \n",
      "the Shining Path's \"struggle for a peace agreement\" was a genuine \n",
      "Shining Path statement.\n",
      "\n",
      "\n",
      "Actual SUMMARY for doc  3 ::\n",
      "-----------------------------------\n",
      "On 25 January, La Republica, a prominent anti-Fujimori daily, published a tract purported to be a genuine Shining Path statement approved by imprisoned Shining Path leader Abimael Guzman. The paper contended that it wanted to provide Peruvians with peace proposal information, not released by the government. The government had released letters from Guzman calling for peace talks in October 1993, claiming they represented an admission of political defeat and the government now had the initiative in confronting the guerrillas. Media in Lima doubt these conclusions, claiming Guzman is no longer in control and is being used by Fujimori.\n",
      "\n",
      "~~~~~~~~~~~~~~~~~~~~~~~~~~~~~~~~~~~~~~~~~~~~~~~~~~~~~~~~~~~~~~~~~~~~~~~~~~~~~~~~~~~~~~~~~~~~~~~~~~~~~~~~\n",
      "Generated SUMMARY for doc  4 ::\n",
      "-----------------------------------\n",
      "The FBI has also been called in to determine whether the civil rights of the \n",
      "man who was arrested -- Don Jackson, a sergeant on administrative leave from \n",
      "the Hawthorne Police Department -- were violated during his altercation with \n",
      "two Long Beach officers on Pacific Coast Highway, spokesman Fred Reagan said.\n",
      "\n",
      "\n",
      "Actual SUMMARY for doc  4 ::\n",
      "-----------------------------------\n",
      "The Los Angeles County district attorney's office and FBI are investigating a videotaped incident in which a white Long Beach policeman, Dickey, appeared to shove a black man's (Jackson's) face into a plate glass window after a routine traffic stop. Although Dickey's attorney admitted that the officer was wrong to spice his orders to Jackson with obscenities, Jackson was booked for suspicion of using offensive language as well as challenging an officer to fight and obstructing arrest. The assistant district attorney said that their office has taken on four to six charges of police brutality a year.\n",
      "\n",
      "~~~~~~~~~~~~~~~~~~~~~~~~~~~~~~~~~~~~~~~~~~~~~~~~~~~~~~~~~~~~~~~~~~~~~~~~~~~~~~~~~~~~~~~~~~~~~~~~~~~~~~~~\n",
      "Generation Complete\n"
     ]
    }
   ],
   "source": [
    "random_summaries(0.98,1)"
   ]
  },
  {
   "cell_type": "code",
   "execution_count": 131,
   "metadata": {
    "collapsed": false
   },
   "outputs": [],
   "source": [
    "def serialize_data_matrix(poly_deg=2):\n",
    "    '''Helper function to dump the data matrix onto hard disc'''\n",
    "    poly = PolynomialFeatures(poly_deg)        \n",
    "    \n",
    "    X_Matrix = construct_X_Matrix(clust_sent_pos,clust_sent_lens,clust_mean_tfs,clust_mean_idfs,clust_mean_cfs,clust_pos_ratios,\n",
    "                                  clust_ner_ratio,clust_dig_ratio,clust_stop_word_ratio)\n",
    "    X_Matrix = poly.fit_transform(X_Matrix)\n",
    "    \n",
    "    data = np.column_stack((X_Matrix,Y))\n",
    "    serialize('data_matrix',data)\n",
    "    print 'done'"
   ]
  },
  {
   "cell_type": "code",
   "execution_count": 123,
   "metadata": {
    "collapsed": false
   },
   "outputs": [
    {
     "name": "stdout",
     "output_type": "stream",
     "text": [
      "done\n"
     ]
    }
   ],
   "source": [
    "serialize_data_matrix(2)"
   ]
  },
  {
   "cell_type": "markdown",
   "metadata": {},
   "source": [
    "<b>Hard Baseline which assumes the very first sentence of the document as the summary</b>"
   ]
  },
  {
   "cell_type": "code",
   "execution_count": 138,
   "metadata": {
    "collapsed": true
   },
   "outputs": [],
   "source": [
    "def get_predicted_rouge(cluster,document,clf,order,sents_in_summ=1):        \n",
    " \n",
    "    X_Matrix = construct_X_Matrix_for_test_doc(cluster,document,clust_sent_pos,clust_sent_lens,clust_mean_tfs,\n",
    "                                clust_mean_idfs,clust_mean_cfs,clust_pos_ratios,clust_ner_ratio,\n",
    "                                clust_dig_ratio,clust_stop_word_ratio,order)\n",
    "    \n",
    "    y_hats = list(clf.predict(X_Matrix))   \n",
    "    \n",
    "    pred_summary = select_sentences(cluster,document,y_hats,sents_in_summ)\n",
    "    \n",
    "    summary_path = data_root_dir+ '/' + 'Summaries' + '/' + document.lower() + '.txt'\n",
    "    gold_summary = extract_gold_summ_from_doc(summary_path)       \n",
    "    \n",
    "    try:\n",
    "        rogue = get_rouge_n_score(gold_summary,pred_summary,n=2,do_stem=True)                \n",
    "    except:\n",
    "        rogue = 0                \n",
    "        \n",
    "    return rogue        "
   ]
  },
  {
   "cell_type": "code",
   "execution_count": 139,
   "metadata": {
    "collapsed": false
   },
   "outputs": [],
   "source": [
    "def evaluate_custom_model(clf,order=2,sents_in_summ=1):\n",
    "    '''Evaluate the Model'''\n",
    "    \n",
    "    rouge_lst = []\n",
    "    for clust,docs in clust_files.items():\n",
    "        for doc in docs:        \n",
    "            if doc not in docs_without_summ[clust] :\n",
    "                rouge = get_predicted_rouge(clust,doc,clf,order,sents_in_summ)                \n",
    "                rouge_lst.append(rouge)\n",
    "                \n",
    "            \n",
    "    avg = sum(rouge_lst)/len(rouge_lst)\n",
    "    return avg    "
   ]
  },
  {
   "cell_type": "code",
   "execution_count": 140,
   "metadata": {
    "collapsed": true
   },
   "outputs": [],
   "source": [
    "def evaluate_hard_baseline_2():\n",
    "    '''Blindly assume first sentence as the predicted sentence. Compute the ROGUE_SCORE between\n",
    "       the first sentence and the actual summary.'''\n",
    "    \n",
    "    rouge_lst = []\n",
    "    for clust,docs in clust_files.items():\n",
    "        for doc in docs:        \n",
    "            if doc not in docs_without_summ[clust] :\n",
    "                first_sentence = doc_to_sent_list(doc)[0]                   \n",
    "                \n",
    "                doc_path = data_root_dir+ '/' + 'Summaries' + '/' + doc.lower() + '.txt'\n",
    "                summary = extract_gold_summ_from_doc(doc_path)\n",
    "\n",
    "                try:\n",
    "                    rogue = get_rouge_n_score(first_sentence,summary,n=2,do_stem=True)\n",
    "                except:                                     \n",
    "                    rogue = 0\n",
    "                \n",
    "                rouge_lst.append(rogue)\n",
    "        \n",
    "    avg = sum(rouge_lst)/len(rouge_lst)\n",
    "    return avg    "
   ]
  },
  {
   "cell_type": "code",
   "execution_count": 141,
   "metadata": {
    "collapsed": false,
    "scrolled": false
   },
   "outputs": [
    {
     "name": "stdout",
     "output_type": "stream",
     "text": [
      "First Sentence Model's accuracy 0.0817177733765\n",
      "Our Model's accuracy 0.220883478463\n"
     ]
    }
   ],
   "source": [
    "hard_baseline_accuracy = evaluate_hard_baseline_2()\n",
    "model_accuracy    = evaluate_custom_model(clf,order=2,sents_in_summ=1)\n",
    "\n",
    "print 'First Sentence Model\\'s accuracy',hard_baseline_accuracy\n",
    "print 'Our Model\\'s accuracy', model_accuracy"
   ]
  },
  {
   "cell_type": "markdown",
   "metadata": {
    "collapsed": true
   },
   "source": [
    "## Deep Models"
   ]
  },
  {
   "cell_type": "code",
   "execution_count": 142,
   "metadata": {
    "collapsed": true
   },
   "outputs": [],
   "source": [
    "from sklearn.neural_network import MLPRegressor"
   ]
  },
  {
   "cell_type": "code",
   "execution_count": 143,
   "metadata": {
    "collapsed": true
   },
   "outputs": [],
   "source": [
    "def get_Xmatrix_and_y(file_name):\n",
    "    summ_data = deserialize(file_name)    \n",
    "    X_mat = summ_data[:,0:len(summ_data[0])-1]\n",
    "    y = summ_data[:,len(summ_data[0])-1:]\n",
    "    return X_mat,y"
   ]
  },
  {
   "cell_type": "code",
   "execution_count": 144,
   "metadata": {
    "collapsed": true
   },
   "outputs": [],
   "source": [
    "def train_regressor(optimizer,hidden_layer_units,activation_func,epochs):\n",
    "    '''Fit an MLP with the specified settings and return the trained regressor'''\n",
    "    '''Optimizer : Any of lbfgs,sgd etc\n",
    "        hidden_layer_units : A tuple of the form (x,y,z) where x is the no of units in 1st hidden layer,y in 2nd and so on                            \n",
    "       activation_fun : logistic / tanh / relu\n",
    "       epochs : No of epochs\n",
    "       X : Train Matrix\n",
    "       y : True values\n",
    "    '''\n",
    "    regr = MLPRegressor(solver=optimizer,hidden_layer_sizes=hidden_layer_units,activation=activation_func,max_iter=epochs)        \n",
    "    return regr"
   ]
  },
  {
   "cell_type": "code",
   "execution_count": 155,
   "metadata": {
    "collapsed": true
   },
   "outputs": [],
   "source": [
    "def run_mlp(optimizers,activation_funcs,epochs,hid_layer_sizes,X_mat,y):\n",
    "    '''Run the MLP for settings specified in the parameters'''\n",
    "    optimizer_act = defaultdict(defaultdict)\n",
    "    for optimizer in optimizers:\n",
    "        act_epoch = defaultdict(defaultdict)\n",
    "        for act_func in activation_funcs:\n",
    "            epoch_hl = defaultdict(defaultdict)\n",
    "            for epoch in epochs:\n",
    "                hl_err = defaultdict(float)\n",
    "                for hid_layer_size in hid_layer_sizes:                \n",
    "                    regr = train_regressor(optimizer,hid_layer_size,act_func,epoch)\n",
    "                    error = do_cross_validation(X_mat,y,regr,10,None,'deep')\n",
    "                    hl_err[len(hid_layer_size)] = error\n",
    "                    print optimizer,act_func,epoch,len(hid_layer_size),'h_layers complete. Error = ',error\n",
    "                epoch_hl[epoch] = copy.deepcopy(hl_err)\n",
    "            act_epoch[act_func] = copy.deepcopy(epoch_hl)\n",
    "        optimizer_act[optimizer] = copy.deepcopy(act_epoch)\n",
    "    return optimizer_act"
   ]
  },
  {
   "cell_type": "code",
   "execution_count": 156,
   "metadata": {
    "collapsed": true
   },
   "outputs": [],
   "source": [
    "def get_best_hyperparams():\n",
    "    '''Specify the various settings for hyperparameters here. Calls run_mlp to get the Validation error'''\n",
    "    X_mat,y = get_Xmatrix_and_y('data_matrix')\n",
    "    optimizers = ['sgd','adam','lbfgs'] \n",
    "    activation_funcs = ['tanh','logistic'] \n",
    "    epochs = [5,10,15,20]\n",
    "    single_hl = (57,)\n",
    "    double_hl = (57,57)\n",
    "    triple_hl = (57,57,57)\n",
    "    hid_layer_sizes = [single_hl,double_hl,triple_hl]\n",
    "    return run_mlp(optimizers,activation_funcs,epochs,hid_layer_sizes,X_mat,y)"
   ]
  },
  {
   "cell_type": "code",
   "execution_count": 157,
   "metadata": {
    "collapsed": false
   },
   "outputs": [
    {
     "name": "stderr",
     "output_type": "stream",
     "text": [
      "/home/karthik/.local/lib/python2.7/site-packages/sklearn/neural_network/multilayer_perceptron.py:1266: DataConversionWarning: A column-vector y was passed when a 1d array was expected. Please change the shape of y to (n_samples, ), for example using ravel().\n",
      "  y = column_or_1d(y, warn=True)\n",
      "/home/karthik/.local/lib/python2.7/site-packages/sklearn/neural_network/multilayer_perceptron.py:563: ConvergenceWarning: Stochastic Optimizer: Maximum iterations reached and the optimization hasn't converged yet.\n",
      "  % (), ConvergenceWarning)\n"
     ]
    },
    {
     "name": "stdout",
     "output_type": "stream",
     "text": [
      "sgd tanh 5 1 h_layers complete. Error =  0.149960412267\n",
      "sgd tanh 5 2 h_layers complete. Error =  0.0907808456743\n",
      "sgd tanh 5 3 h_layers complete. Error =  0.0740506456001\n",
      "sgd tanh 10 1 h_layers complete. Error =  0.117767738858\n",
      "sgd tanh 10 2 h_layers complete. Error =  0.0726039914631\n",
      "sgd tanh 10 3 h_layers complete. Error =  0.058197251421\n",
      "sgd tanh 15 1 h_layers complete. Error =  0.0958015392765\n",
      "sgd tanh 15 2 h_layers complete. Error =  0.0605883689231\n",
      "sgd tanh 15 3 h_layers complete. Error =  0.0539884679604\n",
      "sgd tanh 20 1 h_layers complete. Error =  0.089608639296\n",
      "sgd tanh 20 2 h_layers complete. Error =  0.0539091068165\n",
      "sgd tanh 20 3 h_layers complete. Error =  0.0501900835535\n",
      "sgd logistic 5 1 h_layers complete. Error =  0.0625808209214\n",
      "sgd logistic 5 2 h_layers complete. Error =  0.0338434429875\n",
      "sgd logistic 5 3 h_layers complete. Error =  0.0247397012907\n",
      "sgd logistic 10 1 h_layers complete. Error =  0.0522451922999\n",
      "sgd logistic 10 2 h_layers complete. Error =  0.033111509858\n",
      "sgd logistic 10 3 h_layers complete. Error =  0.0245757034876\n",
      "sgd logistic 15 1 h_layers complete. Error =  0.0521386973333\n",
      "sgd logistic 15 2 h_layers complete. Error =  0.0317822855302\n",
      "sgd logistic 15 3 h_layers complete. Error =  0.0248470396596\n",
      "sgd logistic 20 1 h_layers complete. Error =  0.0501530524836\n",
      "sgd logistic 20 2 h_layers complete. Error =  0.0308587024068\n",
      "sgd logistic 20 3 h_layers complete. Error =  0.0248621648785\n",
      "adam tanh 5 1 h_layers complete. Error =  0.160104375113\n",
      "adam tanh 5 2 h_layers complete. Error =  0.0431150666461\n",
      "adam tanh 5 3 h_layers complete. Error =  0.0345161233073\n",
      "adam tanh 10 1 h_layers complete. Error =  0.109126734935\n",
      "adam tanh 10 2 h_layers complete. Error =  0.0364648852877\n",
      "adam tanh 10 3 h_layers complete. Error =  0.0310010864741\n",
      "adam tanh 15 1 h_layers complete. Error =  0.0940071396374\n",
      "adam tanh 15 2 h_layers complete. Error =  0.0341173075082\n",
      "adam tanh 15 3 h_layers complete. Error =  0.0320982841503\n",
      "adam tanh 20 1 h_layers complete. Error =  0.0754848742715\n",
      "adam tanh 20 2 h_layers complete. Error =  0.0338751914127\n",
      "adam tanh 20 3 h_layers complete. Error =  0.0303887041628\n",
      "adam logistic 5 1 h_layers complete. Error =  0.0453640884408\n",
      "adam logistic 5 2 h_layers complete. Error =  0.0267323547271\n",
      "adam logistic 5 3 h_layers complete. Error =  0.0255656641509\n",
      "adam logistic 10 1 h_layers complete. Error =  0.0409919094743\n",
      "adam logistic 10 2 h_layers complete. Error =  0.0269686828542\n",
      "adam logistic 10 3 h_layers complete. Error =  0.0257846353543\n",
      "adam logistic 15 1 h_layers complete. Error =  0.0372406064377\n",
      "adam logistic 15 2 h_layers complete. Error =  0.0265465076389\n",
      "adam logistic 15 3 h_layers complete. Error =  0.0262513560226\n",
      "adam logistic 20 1 h_layers complete. Error =  0.0374758992055\n",
      "adam logistic 20 2 h_layers complete. Error =  0.0264120640018\n",
      "adam logistic 20 3 h_layers complete. Error =  0.025479968213\n",
      "lbfgs tanh 5 1 h_layers complete. Error =  0.298483912668\n",
      "lbfgs tanh 5 2 h_layers complete. Error =  0.204525661971\n",
      "lbfgs tanh 5 3 h_layers complete. Error =  0.170951145676\n",
      "lbfgs tanh 10 1 h_layers complete. Error =  0.211344703342\n",
      "lbfgs tanh 10 2 h_layers complete. Error =  0.129399104411\n",
      "lbfgs tanh 10 3 h_layers complete. Error =  0.0928754526194\n",
      "lbfgs tanh 15 1 h_layers complete. Error =  0.17846365911\n",
      "lbfgs tanh 15 2 h_layers complete. Error =  0.0914234958685\n",
      "lbfgs tanh 15 3 h_layers complete. Error =  0.0623287769574\n",
      "lbfgs tanh 20 1 h_layers complete. Error =  0.157941065073\n",
      "lbfgs tanh 20 2 h_layers complete. Error =  0.0699404246852\n",
      "lbfgs tanh 20 3 h_layers complete. Error =  0.0458926563113\n",
      "lbfgs logistic 5 1 h_layers complete. Error =  0.100064248296\n",
      "lbfgs logistic 5 2 h_layers complete. Error =  0.0342712076746\n",
      "lbfgs logistic 5 3 h_layers complete. Error =  0.0247536231947\n",
      "lbfgs logistic 10 1 h_layers complete. Error =  0.0635606642818\n",
      "lbfgs logistic 10 2 h_layers complete. Error =  0.0287519242407\n",
      "lbfgs logistic 10 3 h_layers complete. Error =  0.0253619920306\n",
      "lbfgs logistic 15 1 h_layers complete. Error =  0.0557546469163\n",
      "lbfgs logistic 15 2 h_layers complete. Error =  0.0274335909926\n",
      "lbfgs logistic 15 3 h_layers complete. Error =  0.0253035395441\n",
      "lbfgs logistic 20 1 h_layers complete. Error =  0.0515797110428\n",
      "lbfgs logistic 20 2 h_layers complete. Error =  0.0267583266576\n",
      "lbfgs logistic 20 3 h_layers complete. Error =  0.0252443784173\n"
     ]
    }
   ],
   "source": [
    "optimizer_act = get_best_hyperparams()"
   ]
  },
  {
   "cell_type": "code",
   "execution_count": 158,
   "metadata": {
    "collapsed": true
   },
   "outputs": [],
   "source": [
    "#serialize('MLP_Val_Err.pickle',optimizer_act)\n",
    "optimizer_act = deserialize('MLP_Val_Err.pickle')"
   ]
  },
  {
   "cell_type": "code",
   "execution_count": 159,
   "metadata": {
    "collapsed": true
   },
   "outputs": [],
   "source": [
    "def plot_epoch_vs_errors(optimizer_act):\n",
    "    '''Plot Epoch vs Validation Errors by varying the following :\n",
    "       1. No of Hidden Layers\n",
    "       2. No of Epochs\n",
    "       3. Varying the optimizer\n",
    "       4. Varying the activation function for each optimizer\n",
    "    '''\n",
    "    for optimizer in sorted(optimizer_act.keys()):\n",
    "        for act_func in sorted(optimizer_act[optimizer].keys()):\n",
    "            layer_error = defaultdict(list)\n",
    "            for epoch in sorted(optimizer_act[optimizer][act_func].keys()):                 \n",
    "                for h_layer in sorted(optimizer_act[optimizer][act_func][epoch].keys()):  \n",
    "                    layer_error[h_layer].append(optimizer_act[optimizer][act_func][epoch][h_layer])\n",
    "\n",
    "            x = sorted(optimizer_act[optimizer][act_func].keys())\n",
    "            y_lst = []\n",
    "            for lyr in sorted(optimizer_act[optimizer][act_func][epoch].keys()):\n",
    "                y_lst.append(layer_error[lyr])\n",
    "\n",
    "            plt.xlabel('Epochs')\n",
    "            plt.ylabel('Validation Error')\n",
    "            plt.plot(x,y_lst[0],'r-')\n",
    "            plt.plot(x,y_lst[1],'g-')\n",
    "            plt.plot(x,y_lst[2],'b-')\n",
    "            plt.legend(['1 Hidden Layer', '2 Hidden Layers', '3 Hidden Layers'], loc='upper right',columnspacing=0.0, labelspacing=0.0,\n",
    "            )\n",
    "            title = optimizer.upper() + ' with ' + act_func.upper() + ' activation'\n",
    "            plt.title(title)\n",
    "            plt.show()"
   ]
  },
  {
   "cell_type": "code",
   "execution_count": 161,
   "metadata": {
    "collapsed": false
   },
   "outputs": [
    {
     "data": {
      "image/png": "[encoded data removed]",
      "text/plain": [
       "<matplotlib.figure.Figure at 0x7efbb3f47590>"
      ]
     },
     "metadata": {},
     "output_type": "display_data"
    },
    {
     "data": {
      "image/png": "[encoded data removed]",
      "text/plain": [
       "<matplotlib.figure.Figure at 0x7efbac46add0>"
      ]
     },
     "metadata": {},
     "output_type": "display_data"
    },
    {
     "data": {
      "image/png": "[encoded data removed]",
      "text/plain": [
       "<matplotlib.figure.Figure at 0x7efbb6a710d0>"
      ]
     },
     "metadata": {},
     "output_type": "display_data"
    },
    {
     "data": {
      "image/png": "[encoded data removed]",
      "text/plain": [
       "<matplotlib.figure.Figure at 0x7efbb3d53b10>"
      ]
     },
     "metadata": {},
     "output_type": "display_data"
    },
    {
     "data": {
      "image/png": "[encoded data removed]",
      "text/plain": [
       "<matplotlib.figure.Figure at 0x7efbac4d1910>"
      ]
     },
     "metadata": {},
     "output_type": "display_data"
    },
    {
     "data": {
      "image/png": "[encoded data removed]",
      "text/plain": [
       "<matplotlib.figure.Figure at 0x7efbb29e3c10>"
      ]
     },
     "metadata": {},
     "output_type": "display_data"
    }
   ],
   "source": [
    "plot_epoch_vs_errors(optimizer_act)"
   ]
  },
  {
   "cell_type": "markdown",
   "metadata": {},
   "source": [
    "<table border =1>\n",
    "<caption style='color:green;font-size:22px'>Settings with Less Error:</caption>\n",
    "<tr><th>Optimizer</th> <th>Activation</th><th>Hidden Layers</th></tr>\n",
    "<tr><td>Adam</td> <td>Logistic</td><td>3</td></tr>\n",
    "<tr><td>LBFGS</td> <td>Logistic</td><td>3</td></tr>\n",
    "<tr><td>SGD</td> <td>Logistic</td><td>3</td></tr>\n",
    "</table>"
   ]
  },
  {
   "cell_type": "code",
   "execution_count": 173,
   "metadata": {
    "collapsed": false
   },
   "outputs": [],
   "source": [
    "def get_model_accuracy():    \n",
    "    '''Get the Deep Models Accuracies'''\n",
    "    model_acc = defaultdict(float)\n",
    "    data = 'data_matrix'\n",
    "    #ADAM, Logistic 3    \n",
    "    name = 'adam'\n",
    "    model  = train_regressor(name,(57,57,57),'logistic',20)\n",
    "    X,y = get_Xmatrix_and_y(data)\n",
    "    model.fit(X,y)\n",
    "    model_acc[name] = evaluate_custom_model(model,order=2,sents_in_summ=1)\n",
    "    \n",
    "    #LBFGS, Logistic 3    \n",
    "    name = 'lbfgs'\n",
    "    model  = train_regressor(name,(57,57,57),'logistic',20)\n",
    "    X,y = get_Xmatrix_and_y(data)\n",
    "    model.fit(X,y)\n",
    "    model_acc[name] = evaluate_custom_model(model,order=2,sents_in_summ=1)\n",
    "\n",
    "    #SGD, Logistic 3    \n",
    "    name = 'sgd'\n",
    "    model  = train_regressor(name,(57,57,57),'logistic',20)\n",
    "    X,y = get_Xmatrix_and_y(data)\n",
    "    model.fit(X,y)\n",
    "    model_acc[name] = evaluate_custom_model(model,order=2,sents_in_summ=1)    \n",
    "    \n",
    "\n",
    "    return model_acc"
   ]
  },
  {
   "cell_type": "code",
   "execution_count": 6,
   "metadata": {
    "collapsed": false
   },
   "outputs": [
    {
     "data": {
      "text/plain": [
       "defaultdict(float,\n",
       "            {'adam': 0.15100181754868494,\n",
       "             'first_sent': 0.08171777337649205,\n",
       "             'lbfgs': 0.13269003698577003,\n",
       "             'ridge': 0.22088347846342019,\n",
       "             'sgd': 0.13528208986068063})"
      ]
     },
     "execution_count": 6,
     "metadata": {},
     "output_type": "execute_result"
    }
   ],
   "source": [
    "model_acc = get_model_accuracy() \n",
    "model_acc['first_sent'] = evaluate_hard_baseline_2()\n",
    "model_acc['ridge'] = evaluate_custom_model(clf,order=2,sents_in_summ=1)\n",
    "model_acc "
   ]
  },
  {
   "cell_type": "code",
   "execution_count": 9,
   "metadata": {
    "collapsed": false
   },
   "outputs": [
    {
     "data": {
      "image/png": "[encoded data removed]",
      "text/plain": [
       "<matplotlib.figure.Figure at 0x7efbb806d250>"
      ]
     },
     "metadata": {},
     "output_type": "display_data"
    }
   ],
   "source": [
    "objects = tuple([x.upper() for x in model_acc.keys()])\n",
    "y_pos = np.arange(len(objects))\n",
    "performance = model_acc.values()\n",
    " \n",
    "plt.bar(y_pos, performance, align='center', alpha=0.5)\n",
    "plt.xticks(y_pos, objects)\n",
    "plt.ylabel('Test Accuracy')\n",
    "plt.title('Test Accuracies of Different Models')\n",
    " \n",
    "plt.show()"
   ]
  },
  {
   "cell_type": "markdown",
   "metadata": {
    "collapsed": true
   },
   "source": [
    "## Ridge is the Winner "
   ]
  }
 ],
 "metadata": {
  "kernelspec": {
   "display_name": "Python 2",
   "language": "python",
   "name": "python2"
  },
  "language_info": {
   "codemirror_mode": {
    "name": "ipython",
    "version": 2
   },
   "file_extension": ".py",
   "mimetype": "text/x-python",
   "name": "python",
   "nbconvert_exporter": "python",
   "pygments_lexer": "ipython2",
   "version": "2.7.12"
  }
 },
 "nbformat": 4,
 "nbformat_minor": 0
}
